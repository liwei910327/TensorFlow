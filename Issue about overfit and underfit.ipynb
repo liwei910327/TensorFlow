{
 "cells": [
  {
   "cell_type": "markdown",
   "metadata": {
    "id": "19rPukKZsPG6"
   },
   "source": [
    "The accuracy of our model on the validation data would peak after training for a number of epochs, and would then stagnate or start decreasing. In other words,  the model would *overfit* to the training data. The opposite of overfitting is *underfitting*. Underfitting occurs when there is still room for improvement on the train data. \n",
    "\n",
    "To prevent overfitting, the best solution is to use more complete training data. The dataset should cover the full range of inputs that the model is expected to handle. Additional data may only be useful if it covers new and interesting cases. A model trained on more complete data will naturally generalize better. When that is no longer possible, the next best solution is to use techniques like regularization."
   ]
  },
  {
   "cell_type": "markdown",
   "metadata": {
    "id": "WL8UoOTmGGsL"
   },
   "source": [
    "## Setup"
   ]
  },
  {
   "cell_type": "markdown",
   "metadata": {
    "id": "9FklhSI0Gg9R"
   },
   "source": [
    "Before getting started, import the necessary packages:"
   ]
  },
  {
   "cell_type": "code",
   "execution_count": 1,
   "metadata": {
    "id": "5pZ8A2liqvgk",
    "tags": []
   },
   "outputs": [
    {
     "name": "stdout",
     "output_type": "stream",
     "text": [
      "2.5.0\n"
     ]
    }
   ],
   "source": [
    "import tensorflow as tf\n",
    "\n",
    "from tensorflow.keras import layers\n",
    "from tensorflow.keras import regularizers\n",
    "\n",
    "print(tf.__version__)"
   ]
  },
  {
   "cell_type": "markdown",
   "metadata": {
    "id": "9FklhSI0Gg9R"
   },
   "source": [
    "To install module named 'tensorflow_docs', first thing is to install git by using this command conda install git in anaconda promp (administrator access). Then run the following command: !pip install -q git+https://github.com/tensorflow/docs "
   ]
  },
  {
   "cell_type": "code",
   "execution_count": 2,
   "metadata": {
    "id": "QnAtAjqRYVXe",
    "tags": []
   },
   "outputs": [
    {
     "name": "stdout",
     "output_type": "stream",
     "text": [
      "Collecting git+https://github.com/tensorflow/docs\n",
      "  Cloning https://github.com/tensorflow/docs to c:\\users\\wei\\appdata\\local\\temp\\pip-req-build-h1uawjpi\n",
      "Requirement already satisfied: astor in c:\\users\\wei\\.conda\\envs\\tf\\lib\\site-packages (from tensorflow-docs===0.0.047a807024a49d648ff635434d49e3f03a8cfc57a-) (0.8.1)\n",
      "Requirement already satisfied: absl-py in c:\\users\\wei\\.conda\\envs\\tf\\lib\\site-packages (from tensorflow-docs===0.0.047a807024a49d648ff635434d49e3f03a8cfc57a-) (0.12.0)\n",
      "Requirement already satisfied: protobuf>=3.14 in c:\\users\\wei\\.conda\\envs\\tf\\lib\\site-packages (from tensorflow-docs===0.0.047a807024a49d648ff635434d49e3f03a8cfc57a-) (3.14.0)\n",
      "Requirement already satisfied: pyyaml in c:\\users\\wei\\.conda\\envs\\tf\\lib\\site-packages (from tensorflow-docs===0.0.047a807024a49d648ff635434d49e3f03a8cfc57a-) (5.4.1)\n",
      "Requirement already satisfied: six>=1.9 in c:\\users\\wei\\.conda\\envs\\tf\\lib\\site-packages (from protobuf>=3.14->tensorflow-docs===0.0.047a807024a49d648ff635434d49e3f03a8cfc57a-) (1.16.0)\n"
     ]
    },
    {
     "name": "stderr",
     "output_type": "stream",
     "text": [
      "  Running command git clone -q https://github.com/tensorflow/docs 'C:\\Users\\Wei\\AppData\\Local\\Temp\\pip-req-build-h1uawjpi'\n"
     ]
    }
   ],
   "source": [
    "!pip install git+https://github.com/tensorflow/docs\n",
    "import tensorflow_docs as tfdocs\n",
    "import tensorflow_docs.modeling\n",
    "import tensorflow_docs.plots"
   ]
  },
  {
   "cell_type": "code",
   "execution_count": 3,
   "metadata": {
    "execution": {
     "iopub.execute_input": "2021-06-16T14:34:49.613243Z",
     "iopub.status.busy": "2021-06-16T14:34:49.612591Z",
     "iopub.status.idle": "2021-06-16T14:34:49.614938Z",
     "shell.execute_reply": "2021-06-16T14:34:49.614481Z"
    },
    "id": "-pnOU-ctX27Q"
   },
   "outputs": [],
   "source": [
    "from  IPython import display\n",
    "from matplotlib import pyplot as plt\n",
    "\n",
    "import numpy as np\n",
    "\n",
    "import pathlib\n",
    "import shutil\n",
    "import tempfile\n"
   ]
  },
  {
   "cell_type": "code",
   "execution_count": 4,
   "metadata": {
    "execution": {
     "iopub.execute_input": "2021-06-16T14:34:49.618640Z",
     "iopub.status.busy": "2021-06-16T14:34:49.618021Z",
     "iopub.status.idle": "2021-06-16T14:34:49.620826Z",
     "shell.execute_reply": "2021-06-16T14:34:49.620403Z"
    },
    "id": "jj6I4dvTtbUe"
   },
   "outputs": [],
   "source": [
    "logdir = pathlib.Path(tempfile.mkdtemp())/\"tensorboard_logs\"\n",
    "shutil.rmtree(logdir, ignore_errors=True)"
   ]
  },
  {
   "cell_type": "markdown",
   "metadata": {
    "id": "1cweoTiruj8O"
   },
   "source": [
    "## Load the Higgs Dataset"
   ]
  },
  {
   "cell_type": "code",
   "execution_count": 5,
   "metadata": {
    "execution": {
     "iopub.execute_input": "2021-06-16T14:34:49.625705Z",
     "iopub.status.busy": "2021-06-16T14:34:49.625137Z",
     "iopub.status.idle": "2021-06-16T14:37:18.024474Z",
     "shell.execute_reply": "2021-06-16T14:37:18.024897Z"
    },
    "id": "YPjAvwb-6dFd"
   },
   "outputs": [
    {
     "name": "stdout",
     "output_type": "stream",
     "text": [
      "Downloading data from http://mlphysics.ics.uci.edu/data/higgs/HIGGS.csv.gz\n",
      "2816409600/2816407858 [==============================] - 426s 0us/step\n"
     ]
    }
   ],
   "source": [
    "gz = tf.keras.utils.get_file('HIGGS.csv.gz', 'http://mlphysics.ics.uci.edu/data/higgs/HIGGS.csv.gz')"
   ]
  },
  {
   "cell_type": "code",
   "execution_count": 6,
   "metadata": {
    "execution": {
     "iopub.execute_input": "2021-06-16T14:37:18.029269Z",
     "iopub.status.busy": "2021-06-16T14:37:18.028667Z",
     "iopub.status.idle": "2021-06-16T14:37:18.030552Z",
     "shell.execute_reply": "2021-06-16T14:37:18.030922Z"
    },
    "id": "AkiyUdaWIrww"
   },
   "outputs": [],
   "source": [
    "FEATURES = 28"
   ]
  },
  {
   "cell_type": "markdown",
   "metadata": {
    "id": "SFggl9gYKKRJ"
   },
   "source": [
    "The `tf.data.experimental.CsvDataset` class can be used to read csv records directly from a gzip file with no intermediate decompression step."
   ]
  },
  {
   "cell_type": "code",
   "execution_count": 7,
   "metadata": {
    "execution": {
     "iopub.execute_input": "2021-06-16T14:37:19.400375Z",
     "iopub.status.busy": "2021-06-16T14:37:19.399465Z",
     "iopub.status.idle": "2021-06-16T14:37:19.402494Z",
     "shell.execute_reply": "2021-06-16T14:37:19.402864Z"
    },
    "id": "QHz4sLVQEVIU"
   },
   "outputs": [],
   "source": [
    "ds = tf.data.experimental.CsvDataset(gz,[float(),]*(FEATURES+1), compression_type=\"GZIP\")"
   ]
  },
  {
   "cell_type": "markdown",
   "metadata": {
    "id": "HzahEELTKlSV"
   },
   "source": [
    "That csv reader class returns a list of scalars for each record. The following function repacks that list of scalars into a (feature_vector, label) pair."
   ]
  },
  {
   "cell_type": "code",
   "execution_count": 8,
   "metadata": {
    "execution": {
     "iopub.execute_input": "2021-06-16T14:37:19.407478Z",
     "iopub.status.busy": "2021-06-16T14:37:19.406792Z",
     "iopub.status.idle": "2021-06-16T14:37:19.409029Z",
     "shell.execute_reply": "2021-06-16T14:37:19.408596Z"
    },
    "id": "zPD6ICDlF6Wf"
   },
   "outputs": [],
   "source": [
    "def pack_row(*row):\n",
    "  label = row[0]\n",
    "  features = tf.stack(row[1:],1)\n",
    "  return features, label"
   ]
  },
  {
   "cell_type": "markdown",
   "metadata": {
    "id": "4oa8tLuwLsbO"
   },
   "source": [
    "TensorFlow is most efficient when operating on large batches of data. Apply the `pack_row` function to each batch, and then splits the batches back up into individual records:"
   ]
  },
  {
   "cell_type": "code",
   "execution_count": 9,
   "metadata": {
    "execution": {
     "iopub.execute_input": "2021-06-16T14:37:19.413440Z",
     "iopub.status.busy": "2021-06-16T14:37:19.412881Z",
     "iopub.status.idle": "2021-06-16T14:37:19.473663Z",
     "shell.execute_reply": "2021-06-16T14:37:19.474061Z"
    },
    "id": "-w-VHTwwGVoZ"
   },
   "outputs": [],
   "source": [
    "packed_ds = ds.batch(10000).map(pack_row).unbatch()"
   ]
  },
  {
   "cell_type": "markdown",
   "metadata": {
    "id": "lUbxc5bxNSXV"
   },
   "source": [
    "Present some of the records from this new `packed_ds`."
   ]
  },
  {
   "cell_type": "code",
   "execution_count": 10,
   "metadata": {
    "execution": {
     "iopub.execute_input": "2021-06-16T14:37:19.478821Z",
     "iopub.status.busy": "2021-06-16T14:37:19.478161Z",
     "iopub.status.idle": "2021-06-16T14:37:22.174424Z",
     "shell.execute_reply": "2021-06-16T14:37:22.174848Z"
    },
    "id": "TfcXuv33Fvka"
   },
   "outputs": [
    {
     "name": "stdout",
     "output_type": "stream",
     "text": [
      "tf.Tensor(\n",
      "[ 0.8692932  -0.6350818   0.22569026  0.32747006 -0.6899932   0.75420225\n",
      " -0.24857314 -1.0920639   0.          1.3749921  -0.6536742   0.9303491\n",
      "  1.1074361   1.1389043  -1.5781983  -1.0469854   0.          0.65792954\n",
      " -0.01045457 -0.04576717  3.1019614   1.35376     0.9795631   0.97807616\n",
      "  0.92000484  0.72165745  0.98875093  0.87667835], shape=(28,), dtype=float32)\n"
     ]
    },
    {
     "data": {
      "image/png": "[encoded data removed]",
      "text/plain": [
       "<Figure size 432x288 with 1 Axes>"
      ]
     },
     "metadata": {
      "needs_background": "light"
     },
     "output_type": "display_data"
    }
   ],
   "source": [
    "for features,label in packed_ds.batch(1000).take(1):\n",
    "  print(features[0])\n",
    "  plt.hist(features.numpy().flatten(), bins = 101)"
   ]
  },
  {
   "cell_type": "markdown",
   "metadata": {
    "id": "ICKZRY7gN-QM"
   },
   "source": [
    "To simplify this task, use just the first 1000 samples for validation, and the next 10 000 for training:"
   ]
  },
  {
   "cell_type": "code",
   "execution_count": 11,
   "metadata": {
    "execution": {
     "iopub.execute_input": "2021-06-16T14:37:22.179728Z",
     "iopub.status.busy": "2021-06-16T14:37:22.178945Z",
     "iopub.status.idle": "2021-06-16T14:37:22.181019Z",
     "shell.execute_reply": "2021-06-16T14:37:22.181393Z"
    },
    "id": "hmk49OqZIFZP"
   },
   "outputs": [],
   "source": [
    "N_VALIDATION = int(1e3)\n",
    "N_TRAIN = int(1e4)\n",
    "BUFFER_SIZE = int(1e4)\n",
    "BATCH_SIZE = 500\n",
    "STEPS_PER_EPOCH = N_TRAIN//BATCH_SIZE"
   ]
  },
  {
   "cell_type": "markdown",
   "metadata": {
    "id": "FP3M9DmvON32"
   },
   "source": [
    "The `Dataset.skip` and `Dataset.take` methods make this easy. At the same time, use the `Dataset.cache` method to ensure that the loader doesn't need to re-read the data from the file on each epoch:"
   ]
  },
  {
   "cell_type": "code",
   "execution_count": 12,
   "metadata": {
    "execution": {
     "iopub.execute_input": "2021-06-16T14:37:22.185100Z",
     "iopub.status.busy": "2021-06-16T14:37:22.184494Z",
     "iopub.status.idle": "2021-06-16T14:37:22.188335Z",
     "shell.execute_reply": "2021-06-16T14:37:22.187851Z"
    },
    "id": "H8H_ZzpBOOk-"
   },
   "outputs": [],
   "source": [
    "validate_ds = packed_ds.take(N_VALIDATION).cache()\n",
    "train_ds = packed_ds.skip(N_VALIDATION).take(N_TRAIN).cache()"
   ]
  },
  {
   "cell_type": "code",
   "execution_count": 13,
   "metadata": {
    "execution": {
     "iopub.execute_input": "2021-06-16T14:37:22.192929Z",
     "iopub.status.busy": "2021-06-16T14:37:22.192094Z",
     "iopub.status.idle": "2021-06-16T14:37:22.195450Z",
     "shell.execute_reply": "2021-06-16T14:37:22.194986Z"
    },
    "id": "9zAOqk2_Px7K"
   },
   "outputs": [
    {
     "data": {
      "text/plain": [
       "<CacheDataset shapes: ((28,), ()), types: (tf.float32, tf.float32)>"
      ]
     },
     "execution_count": 13,
     "metadata": {},
     "output_type": "execute_result"
    }
   ],
   "source": [
    "train_ds"
   ]
  },
  {
   "cell_type": "markdown",
   "metadata": {
    "id": "6PMliHoVO3OL"
   },
   "source": [
    "These datasets return individual examples. Use the `.batch` method to create batches of an appropriate size for training. Before batching also remember to `.shuffle` and `.repeat` the training set."
   ]
  },
  {
   "cell_type": "code",
   "execution_count": 14,
   "metadata": {
    "execution": {
     "iopub.execute_input": "2021-06-16T14:37:22.199603Z",
     "iopub.status.busy": "2021-06-16T14:37:22.198902Z",
     "iopub.status.idle": "2021-06-16T14:37:22.202436Z",
     "shell.execute_reply": "2021-06-16T14:37:22.201889Z"
    },
    "id": "Y7I4J355O223"
   },
   "outputs": [],
   "source": [
    "validate_ds = validate_ds.batch(BATCH_SIZE)\n",
    "train_ds = train_ds.shuffle(BUFFER_SIZE).repeat().batch(BATCH_SIZE)"
   ]
  },
  {
   "cell_type": "markdown",
   "metadata": {
    "id": "lglk41MwvU5o"
   },
   "source": [
    "## Demonstrate overfitting\n",
    "\n",
    "The simplest way to prevent overfitting is to start with a small model: A model with a small number of learnable parameters. In deep learning, the number of learnable parameters in a model is often referred to as the model's \"capacity\". Intuitively, a model with more parameters will have more \"memorization capacity\" and therefore will be able to easily learn a perfect dictionary-like mapping between training samples and their targets, a mapping without any generalization power, but this would be useless when making predictions on previously unseen data.\n",
    "\n",
    "On the other hand, if the network has limited memorization resources, it will not be able to learn the mapping as easily. To minimize its loss, it will have to learn compressed representations that have more predictive power. At the same time, small model will have difficulty fitting to the training data. There is a balance between \"too much capacity\" and \"not enough capacity\".\n",
    "\n",
    "To find an appropriate model size, it's best to start with relatively few layers and parameters, then begin increasing the size of the layers or adding new layers until identify diminishing returns on the validation loss.\n",
    "\n",
    "Start with a simple model using only `layers.Dense` as a baseline, then create larger versions, and compare them."
   ]
  },
  {
   "cell_type": "markdown",
   "metadata": {
    "id": "_ReKHdC2EgVu"
   },
   "source": [
    "### Training procedure"
   ]
  },
  {
   "cell_type": "markdown",
   "metadata": {
    "id": "pNzkSkkXSP5l"
   },
   "source": [
    "Use `optimizers.schedules` to reduce the learning rate over time to obtain a better training result:"
   ]
  },
  {
   "cell_type": "code",
   "execution_count": 15,
   "metadata": {
    "execution": {
     "iopub.execute_input": "2021-06-16T14:37:22.206775Z",
     "iopub.status.busy": "2021-06-16T14:37:22.206102Z",
     "iopub.status.idle": "2021-06-16T14:37:22.208329Z",
     "shell.execute_reply": "2021-06-16T14:37:22.207944Z"
    },
    "id": "LwQp-ERhAD6F"
   },
   "outputs": [],
   "source": [
    "lr_schedule = tf.keras.optimizers.schedules.InverseTimeDecay(\n",
    "  0.001,\n",
    "  decay_steps=STEPS_PER_EPOCH*1000,\n",
    "  decay_rate=1,\n",
    "  staircase=False)\n",
    "\n",
    "def get_optimizer():\n",
    "  return tf.keras.optimizers.Adam(lr_schedule)"
   ]
  },
  {
   "cell_type": "markdown",
   "metadata": {
    "id": "kANLx6OYTQ8B"
   },
   "source": [
    "The code above sets a `schedules.InverseTimeDecay` to hyperbolically decrease the learning rate to 1/2 of the base rate at 1000 epochs, 1/3 at 2000 epochs and so on."
   ]
  },
  {
   "cell_type": "code",
   "execution_count": 16,
   "metadata": {
    "execution": {
     "iopub.execute_input": "2021-06-16T14:37:22.212453Z",
     "iopub.status.busy": "2021-06-16T14:37:22.211873Z",
     "iopub.status.idle": "2021-06-16T14:37:22.327176Z",
     "shell.execute_reply": "2021-06-16T14:37:22.327643Z"
    },
    "id": "HIo_yPjEAFgn"
   },
   "outputs": [
    {
     "data": {
      "image/png": "[encoded data removed]",
      "text/plain": [
       "<Figure size 576x432 with 1 Axes>"
      ]
     },
     "metadata": {
      "needs_background": "light"
     },
     "output_type": "display_data"
    }
   ],
   "source": [
    "step = np.linspace(0,100000)\n",
    "lr = lr_schedule(step)\n",
    "plt.figure(figsize = (8,6))\n",
    "plt.plot(step/STEPS_PER_EPOCH, lr)\n",
    "plt.ylim([0,max(plt.ylim())])\n",
    "plt.xlabel('Epoch')\n",
    "_ = plt.ylabel('Learning Rate')\n"
   ]
  },
  {
   "cell_type": "markdown",
   "metadata": {
    "id": "ya7x7gr9UjU0"
   },
   "source": [
    "Each model in this task will use the same training configuration. So set these up in a reusable way, starting with the list of callbacks. The training for this task runs for many short epochs. To reduce the logging noise use the `tfdocs.EpochDots` which simply prints a `.` for each epoch, and a full set of metrics every 100 epochs.\n",
    "\n",
    "Next include `callbacks.EarlyStopping` to avoid long and unnecessary training times. Note that this callback is set to monitor the `val_binary_crossentropy`, not the `val_loss`. This difference will be important later.\n",
    "\n",
    "Use `callbacks.TensorBoard` to generate TensorBoard logs for the training.\n"
   ]
  },
  {
   "cell_type": "code",
   "execution_count": 17,
   "metadata": {
    "execution": {
     "iopub.execute_input": "2021-06-16T14:37:22.332132Z",
     "iopub.status.busy": "2021-06-16T14:37:22.331507Z",
     "iopub.status.idle": "2021-06-16T14:37:22.333383Z",
     "shell.execute_reply": "2021-06-16T14:37:22.333715Z"
    },
    "id": "vSv8rfw_T85n"
   },
   "outputs": [],
   "source": [
    "def get_callbacks(name):\n",
    "  return [\n",
    "    tfdocs.modeling.EpochDots(),\n",
    "    tf.keras.callbacks.EarlyStopping(monitor='val_binary_crossentropy', patience=200),\n",
    "    tf.keras.callbacks.TensorBoard(logdir/name),\n",
    "  ]"
   ]
  },
  {
   "cell_type": "markdown",
   "metadata": {
    "id": "VhctzKhBWVDD"
   },
   "source": [
    "Similarly each model will use the same `Model.compile` and `Model.fit` settings:"
   ]
  },
  {
   "cell_type": "code",
   "execution_count": 18,
   "metadata": {
    "execution": {
     "iopub.execute_input": "2021-06-16T14:37:22.339161Z",
     "iopub.status.busy": "2021-06-16T14:37:22.338443Z",
     "iopub.status.idle": "2021-06-16T14:37:22.341138Z",
     "shell.execute_reply": "2021-06-16T14:37:22.340614Z"
    },
    "id": "xRCGwU3YH5sT"
   },
   "outputs": [],
   "source": [
    "def compile_and_fit(model, name, optimizer=None, max_epochs=10000):\n",
    "  if optimizer is None:\n",
    "    optimizer = get_optimizer()\n",
    "  model.compile(optimizer=optimizer,\n",
    "                loss=tf.keras.losses.BinaryCrossentropy(from_logits=True),\n",
    "                metrics=[\n",
    "                  tf.keras.losses.BinaryCrossentropy(\n",
    "                      from_logits=True, name='binary_crossentropy'),\n",
    "                  'accuracy'])\n",
    "\n",
    "  model.summary()\n",
    "\n",
    "  history = model.fit(\n",
    "    train_ds,\n",
    "    steps_per_epoch = STEPS_PER_EPOCH,\n",
    "    epochs=max_epochs,\n",
    "    validation_data=validate_ds,\n",
    "    callbacks=get_callbacks(name),\n",
    "    verbose=0)\n",
    "  return history"
   ]
  },
  {
   "cell_type": "markdown",
   "metadata": {
    "id": "mxBeiLUiWHJV"
   },
   "source": [
    "### Tiny model"
   ]
  },
  {
   "cell_type": "markdown",
   "metadata": {
    "id": "a6JDv12scLTI"
   },
   "source": [
    "Start by training a model:"
   ]
  },
  {
   "cell_type": "code",
   "execution_count": 19,
   "metadata": {
    "execution": {
     "iopub.execute_input": "2021-06-16T14:37:22.344890Z",
     "iopub.status.busy": "2021-06-16T14:37:22.344314Z",
     "iopub.status.idle": "2021-06-16T14:37:22.368161Z",
     "shell.execute_reply": "2021-06-16T14:37:22.367700Z"
    },
    "id": "EZh-QFjKHb70"
   },
   "outputs": [],
   "source": [
    "tiny_model = tf.keras.Sequential([\n",
    "    layers.Dense(16, activation='elu', input_shape=(FEATURES,)),\n",
    "    layers.Dense(1)\n",
    "])"
   ]
  },
  {
   "cell_type": "code",
   "execution_count": 20,
   "metadata": {
    "execution": {
     "iopub.execute_input": "2021-06-16T14:37:22.371527Z",
     "iopub.status.busy": "2021-06-16T14:37:22.370943Z",
     "iopub.status.idle": "2021-06-16T14:37:22.372905Z",
     "shell.execute_reply": "2021-06-16T14:37:22.373235Z"
    },
    "id": "X72IUdWYipIS"
   },
   "outputs": [],
   "source": [
    "size_histories = {}"
   ]
  },
  {
   "cell_type": "code",
   "execution_count": 21,
   "metadata": {
    "execution": {
     "iopub.execute_input": "2021-06-16T14:37:22.379434Z",
     "iopub.status.busy": "2021-06-16T14:37:22.378829Z",
     "iopub.status.idle": "2021-06-16T14:38:40.687718Z",
     "shell.execute_reply": "2021-06-16T14:38:40.687086Z"
    },
    "id": "bdOcJtPGHhJ5"
   },
   "outputs": [
    {
     "name": "stdout",
     "output_type": "stream",
     "text": [
      "Model: \"sequential\"\n",
      "_________________________________________________________________\n",
      "Layer (type)                 Output Shape              Param #   \n",
      "=================================================================\n",
      "dense (Dense)                (None, 16)                464       \n",
      "_________________________________________________________________\n",
      "dense_1 (Dense)              (None, 1)                 17        \n",
      "=================================================================\n",
      "Total params: 481\n",
      "Trainable params: 481\n",
      "Non-trainable params: 0\n",
      "_________________________________________________________________\n",
      "WARNING:tensorflow:Callback method `on_train_batch_end` is slow compared to the batch time (batch time: 0.0032s vs `on_train_batch_end` time: 0.0251s). Check your callbacks.\n",
      "\n",
      "Epoch: 0, accuracy:0.4928,  binary_crossentropy:0.7909,  loss:0.7909,  val_accuracy:0.4890,  val_binary_crossentropy:0.7577,  val_loss:0.7577,  \n",
      "....................................................................................................\n",
      "Epoch: 100, accuracy:0.6034,  binary_crossentropy:0.6246,  loss:0.6246,  val_accuracy:0.5840,  val_binary_crossentropy:0.6239,  val_loss:0.6239,  \n",
      "....................................................................................................\n",
      "Epoch: 200, accuracy:0.6301,  binary_crossentropy:0.6090,  loss:0.6090,  val_accuracy:0.6400,  val_binary_crossentropy:0.6065,  val_loss:0.6065,  \n",
      "....................................................................................................\n",
      "Epoch: 300, accuracy:0.6452,  binary_crossentropy:0.5992,  loss:0.5992,  val_accuracy:0.6510,  val_binary_crossentropy:0.5968,  val_loss:0.5968,  \n",
      "....................................................................................................\n",
      "Epoch: 400, accuracy:0.6610,  binary_crossentropy:0.5921,  loss:0.5921,  val_accuracy:0.6370,  val_binary_crossentropy:0.5918,  val_loss:0.5918,  \n",
      "....................................................................................................\n",
      "Epoch: 500, accuracy:0.6675,  binary_crossentropy:0.5874,  loss:0.5874,  val_accuracy:0.6650,  val_binary_crossentropy:0.5871,  val_loss:0.5871,  \n",
      "....................................................................................................\n",
      "Epoch: 600, accuracy:0.6731,  binary_crossentropy:0.5838,  loss:0.5838,  val_accuracy:0.6530,  val_binary_crossentropy:0.5861,  val_loss:0.5861,  \n",
      "....................................................................................................\n",
      "Epoch: 700, accuracy:0.6705,  binary_crossentropy:0.5810,  loss:0.5810,  val_accuracy:0.6660,  val_binary_crossentropy:0.5848,  val_loss:0.5848,  \n",
      "....................................................................................................\n",
      "Epoch: 800, accuracy:0.6784,  binary_crossentropy:0.5781,  loss:0.5781,  val_accuracy:0.6510,  val_binary_crossentropy:0.5851,  val_loss:0.5851,  \n",
      "....................................................................................................\n",
      "Epoch: 900, accuracy:0.6784,  binary_crossentropy:0.5763,  loss:0.5763,  val_accuracy:0.6660,  val_binary_crossentropy:0.5828,  val_loss:0.5828,  \n",
      "....................................................................................................\n",
      "Epoch: 1000, accuracy:0.6812,  binary_crossentropy:0.5751,  loss:0.5751,  val_accuracy:0.6450,  val_binary_crossentropy:0.5847,  val_loss:0.5847,  \n",
      "....................................................................................................\n",
      "Epoch: 1100, accuracy:0.6848,  binary_crossentropy:0.5730,  loss:0.5730,  val_accuracy:0.6620,  val_binary_crossentropy:0.5830,  val_loss:0.5830,  \n",
      "....................................................................................................\n",
      "Epoch: 1200, accuracy:0.6846,  binary_crossentropy:0.5715,  loss:0.5715,  val_accuracy:0.6490,  val_binary_crossentropy:0.5857,  val_loss:0.5857,  \n",
      "....................................................................................................\n",
      "Epoch: 1300, accuracy:0.6826,  binary_crossentropy:0.5699,  loss:0.5699,  val_accuracy:0.6620,  val_binary_crossentropy:0.5824,  val_loss:0.5824,  \n",
      "....................................................................................................\n",
      "Epoch: 1400, accuracy:0.6824,  binary_crossentropy:0.5685,  loss:0.5685,  val_accuracy:0.6570,  val_binary_crossentropy:0.5829,  val_loss:0.5829,  \n",
      "....................................................................................................\n",
      "Epoch: 1500, accuracy:0.6831,  binary_crossentropy:0.5682,  loss:0.5682,  val_accuracy:0.6720,  val_binary_crossentropy:0.5825,  val_loss:0.5825,  \n",
      "....................................................................................................\n",
      "Epoch: 1600, accuracy:0.6855,  binary_crossentropy:0.5668,  loss:0.5668,  val_accuracy:0.6620,  val_binary_crossentropy:0.5834,  val_loss:0.5834,  \n",
      "....................................................................................................\n",
      "Epoch: 1700, accuracy:0.6853,  binary_crossentropy:0.5656,  loss:0.5656,  val_accuracy:0.6630,  val_binary_crossentropy:0.5823,  val_loss:0.5823,  \n",
      "....................................................................................................\n",
      "Epoch: 1800, accuracy:0.6863,  binary_crossentropy:0.5647,  loss:0.5647,  val_accuracy:0.6660,  val_binary_crossentropy:0.5817,  val_loss:0.5817,  \n",
      "....................................................................................................\n",
      "Epoch: 1900, accuracy:0.6863,  binary_crossentropy:0.5642,  loss:0.5642,  val_accuracy:0.6680,  val_binary_crossentropy:0.5821,  val_loss:0.5821,  \n",
      "....................................................................................................\n",
      "Epoch: 2000, accuracy:0.6855,  binary_crossentropy:0.5634,  loss:0.5634,  val_accuracy:0.6660,  val_binary_crossentropy:0.5823,  val_loss:0.5823,  \n",
      "....................................................................................................\n",
      "Epoch: 2100, accuracy:0.6871,  binary_crossentropy:0.5629,  loss:0.5629,  val_accuracy:0.6630,  val_binary_crossentropy:0.5825,  val_loss:0.5825,  \n",
      "....................................................................................................\n",
      "Epoch: 2200, accuracy:0.6892,  binary_crossentropy:0.5622,  loss:0.5622,  val_accuracy:0.6650,  val_binary_crossentropy:0.5817,  val_loss:0.5817,  \n",
      "....................................................................................................\n",
      "Epoch: 2300, accuracy:0.6863,  binary_crossentropy:0.5616,  loss:0.5616,  val_accuracy:0.6790,  val_binary_crossentropy:0.5814,  val_loss:0.5814,  \n",
      "....................................................................................................\n",
      "Epoch: 2400, accuracy:0.6887,  binary_crossentropy:0.5611,  loss:0.5611,  val_accuracy:0.6660,  val_binary_crossentropy:0.5811,  val_loss:0.5811,  \n",
      "....................................................................................................\n",
      "Epoch: 2500, accuracy:0.6902,  binary_crossentropy:0.5606,  loss:0.5606,  val_accuracy:0.6660,  val_binary_crossentropy:0.5813,  val_loss:0.5813,  \n",
      "......................................................"
     ]
    }
   ],
   "source": [
    "size_histories['Tiny'] = compile_and_fit(tiny_model, 'sizes/Tiny')"
   ]
  },
  {
   "cell_type": "markdown",
   "metadata": {
    "id": "rS_QGT6icwdI"
   },
   "source": [
    "Now check how the model did:"
   ]
  },
  {
   "cell_type": "code",
   "execution_count": 22,
   "metadata": {
    "execution": {
     "iopub.execute_input": "2021-06-16T14:38:40.692902Z",
     "iopub.status.busy": "2021-06-16T14:38:40.692256Z",
     "iopub.status.idle": "2021-06-16T14:38:40.839310Z",
     "shell.execute_reply": "2021-06-16T14:38:40.839768Z"
    },
    "id": "dkEvb2x5XsjE"
   },
   "outputs": [
    {
     "data": {
      "text/plain": [
       "(0.5, 0.7)"
      ]
     },
     "execution_count": 22,
     "metadata": {},
     "output_type": "execute_result"
    },
    {
     "data": {
      "image/png": "[encoded data removed]",
      "text/plain": [
       "<Figure size 432x288 with 1 Axes>"
      ]
     },
     "metadata": {
      "needs_background": "light"
     },
     "output_type": "display_data"
    }
   ],
   "source": [
    "plotter = tfdocs.plots.HistoryPlotter(metric = 'binary_crossentropy', smoothing_std=10)\n",
    "plotter.plot(size_histories)\n",
    "plt.ylim([0.5, 0.7])"
   ]
  },
  {
   "cell_type": "markdown",
   "metadata": {
    "id": "LGxGzh_FWOJ8"
   },
   "source": [
    "### Small model"
   ]
  },
  {
   "cell_type": "markdown",
   "metadata": {
    "id": "YjMb6E72f2pN"
   },
   "source": [
    "The next step is to progressively train some larger models. Try two hidden layers with 16 units each:"
   ]
  },
  {
   "cell_type": "code",
   "execution_count": 23,
   "metadata": {
    "execution": {
     "iopub.execute_input": "2021-06-16T14:38:40.847095Z",
     "iopub.status.busy": "2021-06-16T14:38:40.846422Z",
     "iopub.status.idle": "2021-06-16T14:38:40.867157Z",
     "shell.execute_reply": "2021-06-16T14:38:40.867564Z"
    },
    "id": "QKgdXPx9usBa"
   },
   "outputs": [],
   "source": [
    "small_model = tf.keras.Sequential([\n",
    "    # `input_shape` is only required here so that `.summary` works.\n",
    "    layers.Dense(16, activation='elu', input_shape=(FEATURES,)),\n",
    "    layers.Dense(16, activation='elu'),\n",
    "    layers.Dense(1)\n",
    "])"
   ]
  },
  {
   "cell_type": "code",
   "execution_count": 24,
   "metadata": {
    "execution": {
     "iopub.execute_input": "2021-06-16T14:38:40.875837Z",
     "iopub.status.busy": "2021-06-16T14:38:40.873555Z",
     "iopub.status.idle": "2021-06-16T14:39:30.489864Z",
     "shell.execute_reply": "2021-06-16T14:39:30.489173Z"
    },
    "id": "LqG3MXF5xSjR"
   },
   "outputs": [
    {
     "name": "stdout",
     "output_type": "stream",
     "text": [
      "Model: \"sequential_1\"\n",
      "_________________________________________________________________\n",
      "Layer (type)                 Output Shape              Param #   \n",
      "=================================================================\n",
      "dense_2 (Dense)              (None, 16)                464       \n",
      "_________________________________________________________________\n",
      "dense_3 (Dense)              (None, 16)                272       \n",
      "_________________________________________________________________\n",
      "dense_4 (Dense)              (None, 1)                 17        \n",
      "=================================================================\n",
      "Total params: 753\n",
      "Trainable params: 753\n",
      "Non-trainable params: 0\n",
      "_________________________________________________________________\n",
      "WARNING:tensorflow:Callback method `on_train_batch_end` is slow compared to the batch time (batch time: 0.0028s vs `on_train_batch_end` time: 0.0898s). Check your callbacks.\n",
      "\n",
      "Epoch: 0, accuracy:0.4946,  binary_crossentropy:0.8209,  loss:0.8209,  val_accuracy:0.4490,  val_binary_crossentropy:0.7556,  val_loss:0.7556,  \n",
      "....................................................................................................\n",
      "Epoch: 100, accuracy:0.6147,  binary_crossentropy:0.6169,  loss:0.6169,  val_accuracy:0.5800,  val_binary_crossentropy:0.6288,  val_loss:0.6288,  \n",
      "....................................................................................................\n",
      "Epoch: 200, accuracy:0.6506,  binary_crossentropy:0.5958,  loss:0.5958,  val_accuracy:0.6250,  val_binary_crossentropy:0.6119,  val_loss:0.6119,  \n",
      "....................................................................................................\n",
      "Epoch: 300, accuracy:0.6673,  binary_crossentropy:0.5809,  loss:0.5809,  val_accuracy:0.6410,  val_binary_crossentropy:0.6002,  val_loss:0.6002,  \n",
      "....................................................................................................\n",
      "Epoch: 400, accuracy:0.6792,  binary_crossentropy:0.5733,  loss:0.5733,  val_accuracy:0.6570,  val_binary_crossentropy:0.5971,  val_loss:0.5971,  \n",
      "....................................................................................................\n",
      "Epoch: 500, accuracy:0.6861,  binary_crossentropy:0.5680,  loss:0.5680,  val_accuracy:0.6640,  val_binary_crossentropy:0.5964,  val_loss:0.5964,  \n",
      "....................................................................................................\n",
      "Epoch: 600, accuracy:0.6849,  binary_crossentropy:0.5654,  loss:0.5654,  val_accuracy:0.6580,  val_binary_crossentropy:0.5988,  val_loss:0.5988,  \n",
      "...................................................."
     ]
    }
   ],
   "source": [
    "size_histories['Small'] = compile_and_fit(small_model, 'sizes/Small')"
   ]
  },
  {
   "cell_type": "markdown",
   "metadata": {
    "id": "L-DGRBbGxI6G"
   },
   "source": [
    "### Medium model"
   ]
  },
  {
   "cell_type": "markdown",
   "metadata": {
    "id": "SrfoVQheYSO5"
   },
   "source": [
    "Test on 3 hidden layers with 64 units each:"
   ]
  },
  {
   "cell_type": "code",
   "execution_count": 25,
   "metadata": {
    "execution": {
     "iopub.execute_input": "2021-06-16T14:39:30.498340Z",
     "iopub.status.busy": "2021-06-16T14:39:30.497637Z",
     "iopub.status.idle": "2021-06-16T14:39:30.526123Z",
     "shell.execute_reply": "2021-06-16T14:39:30.525586Z"
    },
    "id": "jksi-XtaxDAh"
   },
   "outputs": [],
   "source": [
    "medium_model = tf.keras.Sequential([\n",
    "    layers.Dense(64, activation='elu', input_shape=(FEATURES,)),\n",
    "    layers.Dense(64, activation='elu'),\n",
    "    layers.Dense(64, activation='elu'),\n",
    "    layers.Dense(1)\n",
    "])"
   ]
  },
  {
   "cell_type": "markdown",
   "metadata": {
    "id": "jbngCZliYdma"
   },
   "source": [
    "And train the model using the same data:"
   ]
  },
  {
   "cell_type": "code",
   "execution_count": 26,
   "metadata": {
    "execution": {
     "iopub.execute_input": "2021-06-16T14:39:30.532620Z",
     "iopub.status.busy": "2021-06-16T14:39:30.531928Z",
     "iopub.status.idle": "2021-06-16T14:39:49.721112Z",
     "shell.execute_reply": "2021-06-16T14:39:49.720642Z"
    },
    "id": "Ofn1AwDhx-Fe"
   },
   "outputs": [
    {
     "name": "stdout",
     "output_type": "stream",
     "text": [
      "Model: \"sequential_2\"\n",
      "_________________________________________________________________\n",
      "Layer (type)                 Output Shape              Param #   \n",
      "=================================================================\n",
      "dense_5 (Dense)              (None, 64)                1856      \n",
      "_________________________________________________________________\n",
      "dense_6 (Dense)              (None, 64)                4160      \n",
      "_________________________________________________________________\n",
      "dense_7 (Dense)              (None, 64)                4160      \n",
      "_________________________________________________________________\n",
      "dense_8 (Dense)              (None, 1)                 65        \n",
      "=================================================================\n",
      "Total params: 10,241\n",
      "Trainable params: 10,241\n",
      "Non-trainable params: 0\n",
      "_________________________________________________________________\n",
      "WARNING:tensorflow:Callback method `on_train_batch_end` is slow compared to the batch time (batch time: 0.0030s vs `on_train_batch_end` time: 0.0873s). Check your callbacks.\n",
      "\n",
      "Epoch: 0, accuracy:0.4901,  binary_crossentropy:0.7022,  loss:0.7022,  val_accuracy:0.4650,  val_binary_crossentropy:0.6795,  val_loss:0.6795,  \n",
      "....................................................................................................\n",
      "Epoch: 100, accuracy:0.7145,  binary_crossentropy:0.5291,  loss:0.5291,  val_accuracy:0.6750,  val_binary_crossentropy:0.6079,  val_loss:0.6079,  \n",
      "....................................................................................................\n",
      "Epoch: 200, accuracy:0.7791,  binary_crossentropy:0.4409,  loss:0.4409,  val_accuracy:0.6610,  val_binary_crossentropy:0.6993,  val_loss:0.6993,  \n",
      "......................................................................."
     ]
    }
   ],
   "source": [
    "size_histories['Medium']  = compile_and_fit(medium_model, \"sizes/Medium\")"
   ]
  },
  {
   "cell_type": "markdown",
   "metadata": {
    "id": "vIPuf23FFaVn"
   },
   "source": [
    "### Large model\n",
    "\n",
    "Create even larger model"
   ]
  },
  {
   "cell_type": "code",
   "execution_count": 27,
   "metadata": {
    "execution": {
     "iopub.execute_input": "2021-06-16T14:39:49.728682Z",
     "iopub.status.busy": "2021-06-16T14:39:49.728127Z",
     "iopub.status.idle": "2021-06-16T14:39:49.758010Z",
     "shell.execute_reply": "2021-06-16T14:39:49.758346Z"
    },
    "id": "ghQwwqwqvQM9"
   },
   "outputs": [],
   "source": [
    "large_model = tf.keras.Sequential([\n",
    "    layers.Dense(512, activation='elu', input_shape=(FEATURES,)),\n",
    "    layers.Dense(512, activation='elu'),\n",
    "    layers.Dense(512, activation='elu'),\n",
    "    layers.Dense(512, activation='elu'),\n",
    "    layers.Dense(1)\n",
    "])"
   ]
  },
  {
   "cell_type": "markdown",
   "metadata": {
    "id": "D-d-i5DaYmr7"
   },
   "source": [
    "Train the model using the same data:"
   ]
  },
  {
   "cell_type": "code",
   "execution_count": 28,
   "metadata": {
    "execution": {
     "iopub.execute_input": "2021-06-16T14:39:49.763697Z",
     "iopub.status.busy": "2021-06-16T14:39:49.763071Z",
     "iopub.status.idle": "2021-06-16T14:40:09.416072Z",
     "shell.execute_reply": "2021-06-16T14:40:09.415544Z"
    },
    "id": "U1A99dhqvepf"
   },
   "outputs": [
    {
     "name": "stdout",
     "output_type": "stream",
     "text": [
      "Model: \"sequential_3\"\n",
      "_________________________________________________________________\n",
      "Layer (type)                 Output Shape              Param #   \n",
      "=================================================================\n",
      "dense_9 (Dense)              (None, 512)               14848     \n",
      "_________________________________________________________________\n",
      "dense_10 (Dense)             (None, 512)               262656    \n",
      "_________________________________________________________________\n",
      "dense_11 (Dense)             (None, 512)               262656    \n",
      "_________________________________________________________________\n",
      "dense_12 (Dense)             (None, 512)               262656    \n",
      "_________________________________________________________________\n",
      "dense_13 (Dense)             (None, 1)                 513       \n",
      "=================================================================\n",
      "Total params: 803,329\n",
      "Trainable params: 803,329\n",
      "Non-trainable params: 0\n",
      "_________________________________________________________________\n",
      "\n",
      "Epoch: 0, accuracy:0.5039,  binary_crossentropy:0.8288,  loss:0.8288,  val_accuracy:0.4740,  val_binary_crossentropy:0.6871,  val_loss:0.6871,  \n",
      "....................................................................................................\n",
      "Epoch: 100, accuracy:1.0000,  binary_crossentropy:0.0021,  loss:0.0021,  val_accuracy:0.6510,  val_binary_crossentropy:1.7934,  val_loss:1.7934,  \n",
      "....................................................................................................\n",
      "Epoch: 200, accuracy:1.0000,  binary_crossentropy:0.0001,  loss:0.0001,  val_accuracy:0.6530,  val_binary_crossentropy:2.4505,  val_loss:2.4505,  \n",
      ".................."
     ]
    }
   ],
   "source": [
    "size_histories['large'] = compile_and_fit(large_model, \"sizes/large\")"
   ]
  },
  {
   "cell_type": "markdown",
   "metadata": {
    "id": "Fy3CMUZpzH3d"
   },
   "source": [
    "### Plot the training and validation losses"
   ]
  },
  {
   "cell_type": "markdown",
   "metadata": {
    "id": "HSlo1F4xHuuM"
   },
   "source": [
    "The solid lines show the training loss, and the dashed lines show the validation loss (remember: a lower validation loss indicates a better model)."
   ]
  },
  {
   "cell_type": "markdown",
   "metadata": {
    "id": "OLhL1AszdLfM"
   },
   "source": [
    "While building a larger model gives it more power, if this power is not constrained somehow it can easily overfit to the training set. In this example, typically, only the `\"Tiny\"` model manages to avoid overfitting altogether, and each of the larger models overfit the data more quickly. \n",
    "\n",
    "* It's normal for there to be a small difference.\n",
    "* If both metrics are moving in the same direction, everything is fine.\n",
    "* If the validation metric begins to stagnate while the training metric continues to improve, it is close to overfitting.\n",
    "* If the validation metric is going in the wrong direction, the model is clearly overfitting."
   ]
  },
  {
   "cell_type": "code",
   "execution_count": 29,
   "metadata": {
    "execution": {
     "iopub.execute_input": "2021-06-16T14:40:09.420765Z",
     "iopub.status.busy": "2021-06-16T14:40:09.420179Z",
     "iopub.status.idle": "2021-06-16T14:40:09.853287Z",
     "shell.execute_reply": "2021-06-16T14:40:09.853691Z"
    },
    "id": "0XmKDtOWzOpk"
   },
   "outputs": [
    {
     "data": {
      "text/plain": [
       "Text(0.5, 0, 'Epochs [Log Scale]')"
      ]
     },
     "execution_count": 29,
     "metadata": {},
     "output_type": "execute_result"
    },
    {
     "data": {
      "image/png": "[encoded data removed]",
      "text/plain": [
       "<Figure size 432x288 with 1 Axes>"
      ]
     },
     "metadata": {
      "needs_background": "light"
     },
     "output_type": "display_data"
    }
   ],
   "source": [
    "plotter.plot(size_histories)\n",
    "a = plt.xscale('log')\n",
    "plt.xlim([5, max(plt.xlim())])\n",
    "plt.ylim([0.5, 0.7])\n",
    "plt.xlabel(\"Epochs [Log Scale]\")"
   ]
  },
  {
   "cell_type": "markdown",
   "metadata": {
    "id": "DEQNKadHA0M3"
   },
   "source": [
    "### View in TensorBoard\n",
    "\n",
    "These models all wrote TensorBoard logs during training.Open an embedded  TensorBoard viewer inside a notebook:"
   ]
  },
  {
   "cell_type": "code",
   "execution_count": 30,
   "metadata": {
    "id": "6oa1lkJddZ-m"
   },
   "outputs": [
    {
     "data": {
      "text/html": [
       "\n",
       "      <iframe id=\"tensorboard-frame-48bac88df5cac5f7\" width=\"100%\" height=\"800\" frameborder=\"0\">\n",
       "      </iframe>\n",
       "      <script>\n",
       "        (function() {\n",
       "          const frame = document.getElementById(\"tensorboard-frame-48bac88df5cac5f7\");\n",
       "          const url = new URL(\"/\", window.location);\n",
       "          const port = 6006;\n",
       "          if (port) {\n",
       "            url.port = port;\n",
       "          }\n",
       "          frame.src = url;\n",
       "        })();\n",
       "      </script>\n",
       "    "
      ],
      "text/plain": [
       "<IPython.core.display.HTML object>"
      ]
     },
     "metadata": {},
     "output_type": "display_data"
    }
   ],
   "source": [
    "#docs_infra: no_execute\n",
    "\n",
    "# Load the TensorBoard notebook extension\n",
    "%load_ext tensorboard\n",
    "\n",
    "# Open an embedded TensorBoard viewer\n",
    "%tensorboard --logdir {logdir}/sizes"
   ]
  },
  {
   "cell_type": "markdown",
   "metadata": {
    "id": "fjqx3bywDPjf"
   },
   "source": [
    "View the [results of a previous run] of this notebook on [TensorBoard.dev] TensorBoard.dev is a managed experience for hosting, tracking, and sharing ML experiments with everyone. It's also included in an `<iframe>` for convenience:"
   ]
  },
  {
   "cell_type": "code",
   "execution_count": 31,
   "metadata": {
    "execution": {
     "iopub.execute_input": "2021-06-16T14:40:09.858794Z",
     "iopub.status.busy": "2021-06-16T14:40:09.857897Z",
     "iopub.status.idle": "2021-06-16T14:40:09.861105Z",
     "shell.execute_reply": "2021-06-16T14:40:09.860595Z"
    },
    "id": "dX5fcgrADwym"
   },
   "outputs": [
    {
     "data": {
      "text/html": [
       "\n",
       "        <iframe\n",
       "            width=\"100%\"\n",
       "            height=\"800px\"\n",
       "            src=\"https://tensorboard.dev/experiment/vW7jmmF9TmKmy3rbheMQpw/#scalars&_smoothingWeight=0.97\"\n",
       "            frameborder=\"0\"\n",
       "            allowfullscreen\n",
       "        ></iframe>\n",
       "        "
      ],
      "text/plain": [
       "<IPython.lib.display.IFrame at 0x2743fe284f0>"
      ]
     },
     "execution_count": 31,
     "metadata": {},
     "output_type": "execute_result"
    }
   ],
   "source": [
    "display.IFrame(\n",
    "    src=\"https://tensorboard.dev/experiment/vW7jmmF9TmKmy3rbheMQpw/#scalars&_smoothingWeight=0.97\",\n",
    "    width=\"100%\", height=\"800px\")"
   ]
  },
  {
   "cell_type": "markdown",
   "metadata": {
    "id": "ASdv7nsgEFhx"
   },
   "source": [
    "## Strategies to prevent overfitting"
   ]
  },
  {
   "cell_type": "markdown",
   "metadata": {
    "id": "YN512ksslaxJ"
   },
   "source": [
    "Before getting into the content of this section copy the training logs from the `\"Tiny\"` model above, to use as a baseline for comparison."
   ]
  },
  {
   "cell_type": "code",
   "execution_count": 32,
   "metadata": {
    "execution": {
     "iopub.execute_input": "2021-06-16T14:40:09.865322Z",
     "iopub.status.busy": "2021-06-16T14:40:09.864699Z",
     "iopub.status.idle": "2021-06-16T14:40:09.870673Z",
     "shell.execute_reply": "2021-06-16T14:40:09.870253Z"
    },
    "id": "40k1eBtnQzNo"
   },
   "outputs": [
    {
     "data": {
      "text/plain": [
       "WindowsPath('C:/Users/Wei/AppData/Local/Temp/tmp79m1m0_e/tensorboard_logs/regularizers/Tiny')"
      ]
     },
     "execution_count": 32,
     "metadata": {},
     "output_type": "execute_result"
    }
   ],
   "source": [
    "shutil.rmtree(logdir/'regularizers/Tiny', ignore_errors=True)\n",
    "shutil.copytree(logdir/'sizes/Tiny', logdir/'regularizers/Tiny')"
   ]
  },
  {
   "cell_type": "code",
   "execution_count": 33,
   "metadata": {
    "execution": {
     "iopub.execute_input": "2021-06-16T14:40:09.874085Z",
     "iopub.status.busy": "2021-06-16T14:40:09.873462Z",
     "iopub.status.idle": "2021-06-16T14:40:09.875894Z",
     "shell.execute_reply": "2021-06-16T14:40:09.875373Z"
    },
    "id": "vFWMeFo7jLpN"
   },
   "outputs": [],
   "source": [
    "regularizer_histories = {}\n",
    "regularizer_histories['Tiny'] = size_histories['Tiny']"
   ]
  },
  {
   "cell_type": "markdown",
   "metadata": {
    "id": "4rHoVWcswFLa"
   },
   "source": [
    "### Add weight regularization\n"
   ]
  },
  {
   "cell_type": "markdown",
   "metadata": {
    "id": "kRxWepNawbBK"
   },
   "source": [
    "A \"simple model\" in this context is a model where the distribution of parameter values has less entropy (or a model with fewer parameters altogether in the section above). Thus a common way to mitigate overfitting is to put constraints on the complexity of a network by forcing its weights only to take small values, which makes the distribution of weight values more \"regular\". This is called \"weight regularization\", and it is done by adding to the loss function of the network a cost associated with having large weights. This cost comes in two flavors:\n",
    "\n",
    "* [L1 regularization], where the cost added is proportional to the absolute value of the weights coefficients (i.e. to what is called the \"L1 norm\" of the weights).\n",
    "\n",
    "* [L2 regularization], where the cost added is proportional to the square of the value of the weights coefficients (i.e. to what is called the squared \"L2 norm\" of the weights). L2 regularization is also called weight decay in the context of neural networks. \n",
    "\n",
    "L1 regularization pushes weights towards exactly zero encouraging a sparse model. L2 regularization will penalize the weights parameters without making them sparse since the penalty goes to zero for small weights-one reason why L2 is more common.\n",
    "\n",
    "In `tf.keras`, weight regularization is added by passing weight regularizer instances to layers as keyword arguments. Let's add L2 weight regularization now."
   ]
  },
  {
   "cell_type": "code",
   "execution_count": 34,
   "metadata": {
    "execution": {
     "iopub.execute_input": "2021-06-16T14:40:09.884990Z",
     "iopub.status.busy": "2021-06-16T14:40:09.884235Z",
     "iopub.status.idle": "2021-06-16T14:40:51.394937Z",
     "shell.execute_reply": "2021-06-16T14:40:51.394384Z"
    },
    "id": "HFGmcwduwVyQ"
   },
   "outputs": [
    {
     "name": "stdout",
     "output_type": "stream",
     "text": [
      "Model: \"sequential_4\"\n",
      "_________________________________________________________________\n",
      "Layer (type)                 Output Shape              Param #   \n",
      "=================================================================\n",
      "dense_14 (Dense)             (None, 512)               14848     \n",
      "_________________________________________________________________\n",
      "dense_15 (Dense)             (None, 512)               262656    \n",
      "_________________________________________________________________\n",
      "dense_16 (Dense)             (None, 512)               262656    \n",
      "_________________________________________________________________\n",
      "dense_17 (Dense)             (None, 512)               262656    \n",
      "_________________________________________________________________\n",
      "dense_18 (Dense)             (None, 1)                 513       \n",
      "=================================================================\n",
      "Total params: 803,329\n",
      "Trainable params: 803,329\n",
      "Non-trainable params: 0\n",
      "_________________________________________________________________\n",
      "WARNING:tensorflow:Callback method `on_train_batch_end` is slow compared to the batch time (batch time: 0.0038s vs `on_train_batch_end` time: 0.3211s). Check your callbacks.\n",
      "\n",
      "Epoch: 0, accuracy:0.5099,  binary_crossentropy:0.7953,  loss:2.3076,  val_accuracy:0.4680,  val_binary_crossentropy:0.6918,  val_loss:2.1255,  \n",
      "....................................................................................................\n",
      "Epoch: 100, accuracy:0.6545,  binary_crossentropy:0.5945,  loss:0.6177,  val_accuracy:0.6910,  val_binary_crossentropy:0.5925,  val_loss:0.6157,  \n",
      "....................................................................................................\n",
      "Epoch: 200, accuracy:0.6730,  binary_crossentropy:0.5813,  loss:0.6030,  val_accuracy:0.6570,  val_binary_crossentropy:0.5834,  val_loss:0.6051,  \n",
      "....................................................................................................\n",
      "Epoch: 300, accuracy:0.6808,  binary_crossentropy:0.5763,  loss:0.5978,  val_accuracy:0.6540,  val_binary_crossentropy:0.5883,  val_loss:0.6099,  \n",
      "....................................................................................................\n",
      "Epoch: 400, accuracy:0.6874,  binary_crossentropy:0.5692,  loss:0.5918,  val_accuracy:0.6940,  val_binary_crossentropy:0.5931,  val_loss:0.6158,  \n",
      "..........................................................................."
     ]
    }
   ],
   "source": [
    "l2_model = tf.keras.Sequential([\n",
    "    layers.Dense(512, activation='elu',\n",
    "                 kernel_regularizer=regularizers.l2(0.001),\n",
    "                 input_shape=(FEATURES,)),\n",
    "    layers.Dense(512, activation='elu',\n",
    "                 kernel_regularizer=regularizers.l2(0.001)),\n",
    "    layers.Dense(512, activation='elu',\n",
    "                 kernel_regularizer=regularizers.l2(0.001)),\n",
    "    layers.Dense(512, activation='elu',\n",
    "                 kernel_regularizer=regularizers.l2(0.001)),\n",
    "    layers.Dense(1)\n",
    "])\n",
    "\n",
    "regularizer_histories['l2'] = compile_and_fit(l2_model, \"regularizers/l2\")"
   ]
  },
  {
   "cell_type": "markdown",
   "metadata": {
    "id": "bUUHoXb7w-_C"
   },
   "source": [
    "`l2(0.001)` means that every coefficient in the weight matrix of the layer will add `0.001 * weight_coefficient_value**2` to the total **loss** of the network. This is also the reason why `binary_crossentropy` is monitored directly as it doesn't have this regularization component mixed in. So, that same `\"Large\"` model with an `L2` regularization penalty performs much better:"
   ]
  },
  {
   "cell_type": "code",
   "execution_count": 35,
   "metadata": {
    "execution": {
     "iopub.execute_input": "2021-06-16T14:40:51.399779Z",
     "iopub.status.busy": "2021-06-16T14:40:51.398803Z",
     "iopub.status.idle": "2021-06-16T14:40:51.551720Z",
     "shell.execute_reply": "2021-06-16T14:40:51.552095Z"
    },
    "id": "7wkfLyxBZdh_"
   },
   "outputs": [
    {
     "data": {
      "text/plain": [
       "(0.5, 0.7)"
      ]
     },
     "execution_count": 35,
     "metadata": {},
     "output_type": "execute_result"
    },
    {
     "data": {
      "image/png": "[encoded data removed]",
      "text/plain": [
       "<Figure size 432x288 with 1 Axes>"
      ]
     },
     "metadata": {
      "needs_background": "light"
     },
     "output_type": "display_data"
    }
   ],
   "source": [
    "plotter.plot(regularizer_histories)\n",
    "plt.ylim([0.5, 0.7])"
   ]
  },
  {
   "cell_type": "markdown",
   "metadata": {
    "id": "Kx1YHMsVxWjP"
   },
   "source": [
    "The `\"L2\"` regularized model is now much more competitive with the the `\"Tiny\"` model. This `\"L2\"` model is also much more resistant to overfitting than the `\"Large\"` model it was based on despite having the same number of parameters."
   ]
  },
  {
   "cell_type": "markdown",
   "metadata": {
    "id": "JheBk6f8jMQ7"
   },
   "source": [
    "#### More info\n",
    "\n",
    "Two important things to note about this sort of regularization.\n",
    "\n",
    "**First:** Make sure to ask the model for its regularization losses in the case of writing own traning loop."
   ]
  },
  {
   "cell_type": "code",
   "execution_count": 36,
   "metadata": {
    "execution": {
     "iopub.execute_input": "2021-06-16T14:40:51.557455Z",
     "iopub.status.busy": "2021-06-16T14:40:51.556222Z",
     "iopub.status.idle": "2021-06-16T14:40:51.562834Z",
     "shell.execute_reply": "2021-06-16T14:40:51.563195Z"
    },
    "id": "apDHQNybjaML"
   },
   "outputs": [],
   "source": [
    "result = l2_model(features)\n",
    "regularization_loss=tf.add_n(l2_model.losses)"
   ]
  },
  {
   "cell_type": "markdown",
   "metadata": {
    "id": "MLhG6fMSjE-J"
   },
   "source": [
    "**Second:** This implementation works by adding the weight penalties to the model's loss, and then applying a standard optimization procedure after that.\n",
    "\n",
    "There is a second approach that instead only runs the optimizer on the raw loss, and then while applying the calculated step the optimizer also applies some weight decay. This \"Decoupled Weight Decay\" is seen in optimizers like `optimizers.FTRL` and `optimizers.AdamW`."
   ]
  },
  {
   "cell_type": "markdown",
   "metadata": {
    "id": "HmnBNOOVxiG8"
   },
   "source": [
    "### Add dropout\n",
    "\n",
    "Dropout is one of the most effective and most commonly used regularization techniques for neural networks. The intuitive explanation for dropout is that because individual nodes in the network cannot rely on the output of the others, each node must output features that are useful on their own.\n",
    "\n",
    "Dropout, applied to a layer, consists of randomly \"dropping out\" (i.e. set to zero) a number of output features of the layer during training. The \"dropout rate\" is the fraction of the features that are being zeroed-out; it is usually set between 0.2 and 0.5. At test time, no units are dropped out, and instead the layer's output values are scaled down by a factor equal to the dropout rate, so as to balance for the fact that more units are active than at training time.\n",
    "\n",
    "Introduce dropout in a network via the Dropout layer In `tf.keras`."
   ]
  },
  {
   "cell_type": "code",
   "execution_count": 37,
   "metadata": {
    "execution": {
     "iopub.execute_input": "2021-06-16T14:40:51.574234Z",
     "iopub.status.busy": "2021-06-16T14:40:51.573295Z",
     "iopub.status.idle": "2021-06-16T14:41:22.772523Z",
     "shell.execute_reply": "2021-06-16T14:41:22.771961Z"
    },
    "id": "OFEYvtrHxSWS"
   },
   "outputs": [
    {
     "name": "stdout",
     "output_type": "stream",
     "text": [
      "Model: \"sequential_5\"\n",
      "_________________________________________________________________\n",
      "Layer (type)                 Output Shape              Param #   \n",
      "=================================================================\n",
      "dense_19 (Dense)             (None, 512)               14848     \n",
      "_________________________________________________________________\n",
      "dropout (Dropout)            (None, 512)               0         \n",
      "_________________________________________________________________\n",
      "dense_20 (Dense)             (None, 512)               262656    \n",
      "_________________________________________________________________\n",
      "dropout_1 (Dropout)          (None, 512)               0         \n",
      "_________________________________________________________________\n",
      "dense_21 (Dense)             (None, 512)               262656    \n",
      "_________________________________________________________________\n",
      "dropout_2 (Dropout)          (None, 512)               0         \n",
      "_________________________________________________________________\n",
      "dense_22 (Dense)             (None, 512)               262656    \n",
      "_________________________________________________________________\n",
      "dropout_3 (Dropout)          (None, 512)               0         \n",
      "_________________________________________________________________\n",
      "dense_23 (Dense)             (None, 1)                 513       \n",
      "=================================================================\n",
      "Total params: 803,329\n",
      "Trainable params: 803,329\n",
      "Non-trainable params: 0\n",
      "_________________________________________________________________\n",
      "WARNING:tensorflow:Callback method `on_train_batch_end` is slow compared to the batch time (batch time: 0.0040s vs `on_train_batch_end` time: 0.3327s). Check your callbacks.\n",
      "\n",
      "Epoch: 0, accuracy:0.5042,  binary_crossentropy:0.8016,  loss:0.8016,  val_accuracy:0.4700,  val_binary_crossentropy:0.6924,  val_loss:0.6924,  \n",
      "....................................................................................................\n",
      "Epoch: 100, accuracy:0.6590,  binary_crossentropy:0.5959,  loss:0.5959,  val_accuracy:0.6710,  val_binary_crossentropy:0.5751,  val_loss:0.5751,  \n",
      "....................................................................................................\n",
      "Epoch: 200, accuracy:0.6855,  binary_crossentropy:0.5568,  loss:0.5568,  val_accuracy:0.6860,  val_binary_crossentropy:0.5711,  val_loss:0.5711,  \n",
      "....................................................................................................\n",
      "Epoch: 300, accuracy:0.7263,  binary_crossentropy:0.5101,  loss:0.5101,  val_accuracy:0.6660,  val_binary_crossentropy:0.6100,  val_loss:0.6100,  \n",
      "...................................."
     ]
    }
   ],
   "source": [
    "dropout_model = tf.keras.Sequential([\n",
    "    layers.Dense(512, activation='elu', input_shape=(FEATURES,)),\n",
    "    layers.Dropout(0.5),\n",
    "    layers.Dense(512, activation='elu'),\n",
    "    layers.Dropout(0.5),\n",
    "    layers.Dense(512, activation='elu'),\n",
    "    layers.Dropout(0.5),\n",
    "    layers.Dense(512, activation='elu'),\n",
    "    layers.Dropout(0.5),\n",
    "    layers.Dense(1)\n",
    "])\n",
    "\n",
    "regularizer_histories['dropout'] = compile_and_fit(dropout_model, \"regularizers/dropout\")"
   ]
  },
  {
   "cell_type": "code",
   "execution_count": 38,
   "metadata": {
    "execution": {
     "iopub.execute_input": "2021-06-16T14:41:22.776586Z",
     "iopub.status.busy": "2021-06-16T14:41:22.775946Z",
     "iopub.status.idle": "2021-06-16T14:41:22.939452Z",
     "shell.execute_reply": "2021-06-16T14:41:22.939918Z"
    },
    "id": "SPZqwVchx5xp"
   },
   "outputs": [
    {
     "data": {
      "text/plain": [
       "(0.5, 0.7)"
      ]
     },
     "execution_count": 38,
     "metadata": {},
     "output_type": "execute_result"
    },
    {
     "data": {
      "image/png": "[encoded data removed]",
      "text/plain": [
       "<Figure size 432x288 with 1 Axes>"
      ]
     },
     "metadata": {
      "needs_background": "light"
     },
     "output_type": "display_data"
    }
   ],
   "source": [
    "plotter.plot(regularizer_histories)\n",
    "plt.ylim([0.5, 0.7])"
   ]
  },
  {
   "cell_type": "markdown",
   "metadata": {
    "id": "4zlHr4iaI1U6"
   },
   "source": [
    "It's clear from this plot that both of these regularization approaches improve the behavior of the `\"Large\"` model. But this still doesn't beat even the `\"Tiny\"` baseline."
   ]
  },
  {
   "cell_type": "markdown",
   "metadata": {
    "id": "u7qMg_7Nwy5t"
   },
   "source": [
    "### Combined L2 + dropout"
   ]
  },
  {
   "cell_type": "code",
   "execution_count": 39,
   "metadata": {
    "execution": {
     "iopub.execute_input": "2021-06-16T14:41:22.951111Z",
     "iopub.status.busy": "2021-06-16T14:41:22.950439Z",
     "iopub.status.idle": "2021-06-16T14:42:46.108412Z",
     "shell.execute_reply": "2021-06-16T14:42:46.108817Z"
    },
    "id": "7zfs_qQIw1cz"
   },
   "outputs": [
    {
     "name": "stdout",
     "output_type": "stream",
     "text": [
      "Model: \"sequential_6\"\n",
      "_________________________________________________________________\n",
      "Layer (type)                 Output Shape              Param #   \n",
      "=================================================================\n",
      "dense_24 (Dense)             (None, 512)               14848     \n",
      "_________________________________________________________________\n",
      "dropout_4 (Dropout)          (None, 512)               0         \n",
      "_________________________________________________________________\n",
      "dense_25 (Dense)             (None, 512)               262656    \n",
      "_________________________________________________________________\n",
      "dropout_5 (Dropout)          (None, 512)               0         \n",
      "_________________________________________________________________\n",
      "dense_26 (Dense)             (None, 512)               262656    \n",
      "_________________________________________________________________\n",
      "dropout_6 (Dropout)          (None, 512)               0         \n",
      "_________________________________________________________________\n",
      "dense_27 (Dense)             (None, 512)               262656    \n",
      "_________________________________________________________________\n",
      "dropout_7 (Dropout)          (None, 512)               0         \n",
      "_________________________________________________________________\n",
      "dense_28 (Dense)             (None, 1)                 513       \n",
      "=================================================================\n",
      "Total params: 803,329\n",
      "Trainable params: 803,329\n",
      "Non-trainable params: 0\n",
      "_________________________________________________________________\n",
      "WARNING:tensorflow:Callback method `on_train_batch_end` is slow compared to the batch time (batch time: 0.0046s vs `on_train_batch_end` time: 0.3191s). Check your callbacks.\n",
      "\n",
      "Epoch: 0, accuracy:0.5024,  binary_crossentropy:0.8041,  loss:0.9624,  val_accuracy:0.5670,  val_binary_crossentropy:0.6879,  val_loss:0.8457,  \n",
      "....................................................................................................\n",
      "Epoch: 100, accuracy:0.6455,  binary_crossentropy:0.6067,  loss:0.6366,  val_accuracy:0.6390,  val_binary_crossentropy:0.5883,  val_loss:0.6181,  \n",
      "....................................................................................................\n",
      "Epoch: 200, accuracy:0.6614,  binary_crossentropy:0.5897,  loss:0.6147,  val_accuracy:0.6780,  val_binary_crossentropy:0.5711,  val_loss:0.5961,  \n",
      "....................................................................................................\n",
      "Epoch: 300, accuracy:0.6697,  binary_crossentropy:0.5826,  loss:0.6101,  val_accuracy:0.6630,  val_binary_crossentropy:0.5729,  val_loss:0.6004,  \n",
      "....................................................................................................\n",
      "Epoch: 400, accuracy:0.6737,  binary_crossentropy:0.5802,  loss:0.6097,  val_accuracy:0.6420,  val_binary_crossentropy:0.5755,  val_loss:0.6050,  \n",
      "....................................................................................................\n",
      "Epoch: 500, accuracy:0.6843,  binary_crossentropy:0.5713,  loss:0.6028,  val_accuracy:0.6920,  val_binary_crossentropy:0.5438,  val_loss:0.5753,  \n",
      "....................................................................................................\n",
      "Epoch: 600, accuracy:0.6833,  binary_crossentropy:0.5646,  loss:0.5980,  val_accuracy:0.6860,  val_binary_crossentropy:0.5508,  val_loss:0.5842,  \n",
      "....................................................................................................\n",
      "Epoch: 700, accuracy:0.6899,  binary_crossentropy:0.5616,  loss:0.5966,  val_accuracy:0.7020,  val_binary_crossentropy:0.5527,  val_loss:0.5877,  \n",
      "....................................................................................................\n",
      "Epoch: 800, accuracy:0.6920,  binary_crossentropy:0.5593,  loss:0.5953,  val_accuracy:0.6920,  val_binary_crossentropy:0.5429,  val_loss:0.5789,  \n",
      "....................................................................................................\n",
      "Epoch: 900, accuracy:0.6934,  binary_crossentropy:0.5565,  loss:0.5932,  val_accuracy:0.6980,  val_binary_crossentropy:0.5390,  val_loss:0.5756,  \n",
      "....................................................................................................\n",
      "Epoch: 1000, accuracy:0.6929,  binary_crossentropy:0.5534,  loss:0.5915,  val_accuracy:0.7000,  val_binary_crossentropy:0.5384,  val_loss:0.5764,  \n",
      "....................................................................................................\n",
      "Epoch: 1100, accuracy:0.6966,  binary_crossentropy:0.5530,  loss:0.5922,  val_accuracy:0.7020,  val_binary_crossentropy:0.5382,  val_loss:0.5774,  \n",
      "....................................................................................................\n",
      "Epoch: 1200, accuracy:0.7013,  binary_crossentropy:0.5472,  loss:0.5873,  val_accuracy:0.7010,  val_binary_crossentropy:0.5374,  val_loss:0.5775,  \n",
      "......................................."
     ]
    }
   ],
   "source": [
    "combined_model = tf.keras.Sequential([\n",
    "    layers.Dense(512, kernel_regularizer=regularizers.l2(0.0001),\n",
    "                 activation='elu', input_shape=(FEATURES,)),\n",
    "    layers.Dropout(0.5),\n",
    "    layers.Dense(512, kernel_regularizer=regularizers.l2(0.0001),\n",
    "                 activation='elu'),\n",
    "    layers.Dropout(0.5),\n",
    "    layers.Dense(512, kernel_regularizer=regularizers.l2(0.0001),\n",
    "                 activation='elu'),\n",
    "    layers.Dropout(0.5),\n",
    "    layers.Dense(512, kernel_regularizer=regularizers.l2(0.0001),\n",
    "                 activation='elu'),\n",
    "    layers.Dropout(0.5),\n",
    "    layers.Dense(1)\n",
    "])\n",
    "\n",
    "regularizer_histories['combined'] = compile_and_fit(combined_model, \"regularizers/combined\")"
   ]
  },
  {
   "cell_type": "code",
   "execution_count": 40,
   "metadata": {
    "execution": {
     "iopub.execute_input": "2021-06-16T14:42:46.112788Z",
     "iopub.status.busy": "2021-06-16T14:42:46.112236Z",
     "iopub.status.idle": "2021-06-16T14:42:46.317102Z",
     "shell.execute_reply": "2021-06-16T14:42:46.317498Z"
    },
    "id": "qDqBBxfI0Yd8"
   },
   "outputs": [
    {
     "data": {
      "text/plain": [
       "(0.5, 0.7)"
      ]
     },
     "execution_count": 40,
     "metadata": {},
     "output_type": "execute_result"
    },
    {
     "data": {
      "image/png": "[encoded data removed]",
      "text/plain": [
       "<Figure size 432x288 with 1 Axes>"
      ]
     },
     "metadata": {
      "needs_background": "light"
     },
     "output_type": "display_data"
    }
   ],
   "source": [
    "plotter.plot(regularizer_histories)\n",
    "plt.ylim([0.5, 0.7])"
   ]
  },
  {
   "cell_type": "markdown",
   "metadata": {
    "id": "-dw23T03FEO1"
   },
   "source": [
    "### View in TensorBoard\n",
    "\n",
    "These models also recorded TensorBoard logs. To open an embedded  tensorboard viewer inside a notebook, copy the following into a code-cell:\n",
    "\n",
    "```\n",
    "%tensorboard --logdir {logdir}/regularizers\n",
    "```"
   ]
  },
  {
   "cell_type": "code",
   "execution_count": 41,
   "metadata": {
    "execution": {
     "iopub.execute_input": "2021-06-16T14:42:46.322157Z",
     "iopub.status.busy": "2021-06-16T14:42:46.321577Z",
     "iopub.status.idle": "2021-06-16T14:42:46.323809Z",
     "shell.execute_reply": "2021-06-16T14:42:46.324174Z"
    },
    "id": "doMtyYoqFEO5"
   },
   "outputs": [
    {
     "data": {
      "text/html": [
       "\n",
       "        <iframe\n",
       "            width=\"100%\"\n",
       "            height=\"800px\"\n",
       "            src=\"https://tensorboard.dev/experiment/fGInKDo8TXes1z7HQku9mw/#scalars&_smoothingWeight=0.97\"\n",
       "            frameborder=\"0\"\n",
       "            allowfullscreen\n",
       "        ></iframe>\n",
       "        "
      ],
      "text/plain": [
       "<IPython.lib.display.IFrame at 0x27441fbce80>"
      ]
     },
     "execution_count": 41,
     "metadata": {},
     "output_type": "execute_result"
    }
   ],
   "source": [
    "display.IFrame(\n",
    "    src=\"https://tensorboard.dev/experiment/fGInKDo8TXes1z7HQku9mw/#scalars&_smoothingWeight=0.97\",\n",
    "    width = \"100%\",\n",
    "    height=\"800px\")\n"
   ]
  }
 ],
 "metadata": {
  "accelerator": "GPU",
  "colab": {
   "collapsed_sections": [],
   "name": "overfit_and_underfit.ipynb",
   "toc_visible": true
  },
  "kernelspec": {
   "display_name": "Python 3",
   "language": "python",
   "name": "python3"
  },
  "language_info": {
   "codemirror_mode": {
    "name": "ipython",
    "version": 3
   },
   "file_extension": ".py",
   "mimetype": "text/x-python",
   "name": "python",
   "nbconvert_exporter": "python",
   "pygments_lexer": "ipython3",
   "version": "3.9.5"
  }
 },
 "nbformat": 4,
 "nbformat_minor": 4
}
