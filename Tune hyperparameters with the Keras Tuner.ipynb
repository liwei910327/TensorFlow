{
 "cells": [
  {
   "cell_type": "markdown",
   "metadata": {
    "id": "qFdPvlXBOdUN"
   },
   "source": [
    "# Introduction to the Keras Tuner"
   ]
  },
  {
   "cell_type": "markdown",
   "metadata": {
    "id": "xHxb-dlhMIzW"
   },
   "source": [
    "## Overview\n",
    "\n",
    "Keras Tuner is a library that helps to pick the optimal set of hyperparameters for TensorFlow program. The process of selecting the right set of hyperparameters for machine learning (ML) application is called *hyperparameter tuning* or *hypertuning*.\n",
    "\n",
    "Hyperparameters are the variables that govern the training process and the topology of an ML model. These variables remain constant over the training process and directly impact the performance of ML program. Hyperparameters are of two types:\n",
    "\n",
    "1. **Model hyperparameters** which influence model selection such as the number and width of hidden layers\n",
    "2. **Algorithm hyperparameters** which influence the speed and quality of the learning algorithm such as the learning rate for Stochastic Gradient Descent (SGD) and the number of nearest neighbors for a k Nearest Neighbors (KNN) classifier"
   ]
  },
  {
   "cell_type": "markdown",
   "metadata": {
    "id": "MUXex9ctTuDB"
   },
   "source": [
    "## Setup"
   ]
  },
  {
   "cell_type": "code",
   "execution_count": 1,
   "metadata": {
    "execution": {
     "iopub.execute_input": "2021-06-26T01:24:54.362297Z",
     "iopub.status.busy": "2021-06-26T01:24:54.361736Z",
     "iopub.status.idle": "2021-06-26T01:24:55.793426Z",
     "shell.execute_reply": "2021-06-26T01:24:55.792729Z"
    },
    "id": "IqR2PQG4ZaZ0"
   },
   "outputs": [],
   "source": [
    "import tensorflow as tf\n",
    "from tensorflow import keras"
   ]
  },
  {
   "cell_type": "markdown",
   "metadata": {
    "id": "g83Lwsy-Aq2_"
   },
   "source": [
    "Install and import the Keras Tuner."
   ]
  },
  {
   "cell_type": "code",
   "execution_count": 2,
   "metadata": {
    "execution": {
     "iopub.execute_input": "2021-06-26T01:24:55.797991Z",
     "iopub.status.busy": "2021-06-26T01:24:55.797199Z",
     "iopub.status.idle": "2021-06-26T01:24:58.293222Z",
     "shell.execute_reply": "2021-06-26T01:24:58.293664Z"
    },
    "id": "hpMLpbt9jcO6"
   },
   "outputs": [],
   "source": [
    "!pip install -q -U keras-tuner"
   ]
  },
  {
   "cell_type": "code",
   "execution_count": 3,
   "metadata": {
    "execution": {
     "iopub.execute_input": "2021-06-26T01:24:58.298340Z",
     "iopub.status.busy": "2021-06-26T01:24:58.297689Z",
     "iopub.status.idle": "2021-06-26T01:24:58.853454Z",
     "shell.execute_reply": "2021-06-26T01:24:58.853894Z"
    },
    "id": "_leAIdFKAxAD"
   },
   "outputs": [],
   "source": [
    "import keras_tuner as kt"
   ]
  },
  {
   "cell_type": "markdown",
   "metadata": {
    "id": "ReV_UXOgCZvx"
   },
   "source": [
    "## Download and prepare the dataset\n",
    "\n",
    "Use the Keras Tuner to find the best hyperparameters for a machine learning model that classifies images of clothing from the [Fashion MNIST dataset]"
   ]
  },
  {
   "cell_type": "markdown",
   "metadata": {
    "id": "HljH_ENLEdHa"
   },
   "source": [
    "Load the data."
   ]
  },
  {
   "cell_type": "code",
   "execution_count": 4,
   "metadata": {
    "execution": {
     "iopub.execute_input": "2021-06-26T01:24:58.858244Z",
     "iopub.status.busy": "2021-06-26T01:24:58.857600Z",
     "iopub.status.idle": "2021-06-26T01:24:59.759290Z",
     "shell.execute_reply": "2021-06-26T01:24:59.759790Z"
    },
    "id": "OHlHs9Wj_PUM"
   },
   "outputs": [],
   "source": [
    "(img_train, label_train), (img_test, label_test) = keras.datasets.fashion_mnist.load_data()"
   ]
  },
  {
   "cell_type": "code",
   "execution_count": 5,
   "metadata": {
    "execution": {
     "iopub.execute_input": "2021-06-26T01:24:59.764044Z",
     "iopub.status.busy": "2021-06-26T01:24:59.763406Z",
     "iopub.status.idle": "2021-06-26T01:24:59.843746Z",
     "shell.execute_reply": "2021-06-26T01:24:59.843180Z"
    },
    "id": "bLVhXs3xrUD0"
   },
   "outputs": [],
   "source": [
    "# Normalize pixel values between 0 and 1\n",
    "img_train = img_train.astype('float32') / 255.0\n",
    "img_test = img_test.astype('float32') / 255.0"
   ]
  },
  {
   "cell_type": "markdown",
   "metadata": {
    "id": "K5YEL2H2Ax3e"
   },
   "source": [
    "## Define the model\n",
    "\n",
    "When building a model for hypertuning, the defination of the hyperparameter search space in addition to the model architecture is also determined. The model set up for hypertuning is called a *hypermodel*.\n",
    "\n",
    "Define a hypermodel through two approaches:\n",
    "\n",
    "* By using a model builder function\n",
    "* By subclassing the `HyperModel` class of the Keras Tuner API"
   ]
  },
  {
   "cell_type": "code",
   "execution_count": 6,
   "metadata": {
    "execution": {
     "iopub.execute_input": "2021-06-26T01:24:59.850266Z",
     "iopub.status.busy": "2021-06-26T01:24:59.849584Z",
     "iopub.status.idle": "2021-06-26T01:24:59.851797Z",
     "shell.execute_reply": "2021-06-26T01:24:59.851340Z"
    },
    "id": "ZQKodC-jtsva"
   },
   "outputs": [],
   "source": [
    "def model_builder(hp):\n",
    "  model = keras.Sequential()\n",
    "  model.add(keras.layers.Flatten(input_shape=(28, 28)))\n",
    "\n",
    "  # Tune the number of units in the first Dense layer\n",
    "  # Choose an optimal value between 32-512\n",
    "  hp_units = hp.Int('units', min_value=32, max_value=512, step=32)\n",
    "  model.add(keras.layers.Dense(units=hp_units, activation='relu'))\n",
    "  model.add(keras.layers.Dense(10))\n",
    "\n",
    "  # Tune the learning rate for the optimizer\n",
    "  # Choose an optimal value from 0.01, 0.001, or 0.0001\n",
    "  hp_learning_rate = hp.Choice('learning_rate', values=[1e-2, 1e-3, 1e-4])\n",
    "\n",
    "  model.compile(optimizer=keras.optimizers.Adam(learning_rate=hp_learning_rate),\n",
    "                loss=keras.losses.SparseCategoricalCrossentropy(from_logits=True),\n",
    "                metrics=['accuracy'])\n",
    "\n",
    "  return model"
   ]
  },
  {
   "cell_type": "markdown",
   "metadata": {
    "id": "0J1VYw4q3x0b"
   },
   "source": [
    "## Instantiate the tuner and perform hypertuning\n",
    "\n",
    "Instantiate the tuner to perform the hypertuning. The Keras Tuner has four tuners available - `RandomSearch`, `Hyperband`, `BayesianOptimization`, and `Sklearn`. [Hyperband](https://arxiv.org/pdf/1603.06560.pdf) tuner is used in this tutorial.\n",
    "\n",
    "To instantiate the Hyperband tuner, specify the hypermodel and the `objective` to optimize and the maximum number of epochs to train (`max_epochs`)."
   ]
  },
  {
   "cell_type": "code",
   "execution_count": 7,
   "metadata": {
    "execution": {
     "iopub.execute_input": "2021-06-26T01:24:59.856125Z",
     "iopub.status.busy": "2021-06-26T01:24:59.855483Z",
     "iopub.status.idle": "2021-06-26T01:25:01.549456Z",
     "shell.execute_reply": "2021-06-26T01:25:01.549889Z"
    },
    "id": "oichQFly6Y46"
   },
   "outputs": [
    {
     "name": "stdout",
     "output_type": "stream",
     "text": [
      "INFO:tensorflow:Reloading Oracle from existing project my_dir\\intro_to_kt\\oracle.json\n",
      "INFO:tensorflow:Reloading Tuner from my_dir\\intro_to_kt\\tuner0.json\n"
     ]
    }
   ],
   "source": [
    "tuner = kt.Hyperband(model_builder,\n",
    "                     objective='val_accuracy',\n",
    "                     max_epochs=10,\n",
    "                     factor=3,\n",
    "                     directory='my_dir',\n",
    "                     project_name='intro_to_kt')"
   ]
  },
  {
   "cell_type": "markdown",
   "metadata": {
    "id": "VaIhhdKf9VtI"
   },
   "source": [
    "The Hyperband tuning algorithm uses adaptive resource allocation and early-stopping to quickly converge on a high-performing model. This is done using a sports championship style bracket. The algorithm trains a large number of models for a few epochs and carries forward only the top-performing half of models to the next round. Hyperband determines the number of models to train in a bracket by computing 1 + log<sub>`factor`</sub>(`max_epochs`) and rounding it up to the nearest integer."
   ]
  },
  {
   "cell_type": "markdown",
   "metadata": {
    "id": "cwhBdXx0Ekj8"
   },
   "source": [
    "Create a callback to stop training early after reaching a certain value for the validation loss."
   ]
  },
  {
   "cell_type": "code",
   "execution_count": 8,
   "metadata": {
    "execution": {
     "iopub.execute_input": "2021-06-26T01:25:01.554385Z",
     "iopub.status.busy": "2021-06-26T01:25:01.553764Z",
     "iopub.status.idle": "2021-06-26T01:25:01.555354Z",
     "shell.execute_reply": "2021-06-26T01:25:01.555733Z"
    },
    "id": "WT9IkS9NEjLc"
   },
   "outputs": [],
   "source": [
    "stop_early = tf.keras.callbacks.EarlyStopping(monitor='val_loss', patience=5)"
   ]
  },
  {
   "cell_type": "markdown",
   "metadata": {
    "id": "UKghEo15Tduy"
   },
   "source": [
    "Run the hyperparameter search. The arguments for the search method are the same as those used for `tf.keras.model.fit` in addition to the callback above."
   ]
  },
  {
   "cell_type": "code",
   "execution_count": 9,
   "metadata": {
    "execution": {
     "iopub.execute_input": "2021-06-26T01:25:01.560706Z",
     "iopub.status.busy": "2021-06-26T01:25:01.560104Z",
     "iopub.status.idle": "2021-06-26T01:30:37.256655Z",
     "shell.execute_reply": "2021-06-26T01:30:37.257079Z"
    },
    "id": "dSBQcTHF9cKt"
   },
   "outputs": [
    {
     "name": "stdout",
     "output_type": "stream",
     "text": [
      "Trial 10 Complete [00h 00m 55s]\n",
      "val_accuracy: 0.8882499933242798\n",
      "\n",
      "Best val_accuracy So Far: 0.8882499933242798\n",
      "Total elapsed time: 00h 06m 25s\n",
      "INFO:tensorflow:Oracle triggered exit\n",
      "\n",
      "The hyperparameter search is complete. The optimal number of units in the first densely-connected\n",
      "layer is 256 and the optimal learning rate for the optimizer\n",
      "is 0.001.\n",
      "\n"
     ]
    }
   ],
   "source": [
    "tuner.search(img_train, label_train, epochs=50, validation_split=0.2, callbacks=[stop_early])\n",
    "\n",
    "# Get the optimal hyperparameters\n",
    "best_hps=tuner.get_best_hyperparameters(num_trials=1)[0]\n",
    "\n",
    "print(f\"\"\"\n",
    "The hyperparameter search is complete. The optimal number of units in the first densely-connected\n",
    "layer is {best_hps.get('units')} and the optimal learning rate for the optimizer\n",
    "is {best_hps.get('learning_rate')}.\n",
    "\"\"\")"
   ]
  },
  {
   "cell_type": "markdown",
   "metadata": {
    "id": "Lak_ylf88xBv"
   },
   "source": [
    "## Train the model\n",
    "\n",
    "Find the optimal number of epochs to train the model with the hyperparameters obtained from the search."
   ]
  },
  {
   "cell_type": "code",
   "execution_count": 10,
   "metadata": {
    "execution": {
     "iopub.execute_input": "2021-06-26T01:30:37.349333Z",
     "iopub.status.busy": "2021-06-26T01:30:37.261935Z",
     "iopub.status.idle": "2021-06-26T01:32:41.599453Z",
     "shell.execute_reply": "2021-06-26T01:32:41.599038Z"
    },
    "id": "McO82AXOuxXh"
   },
   "outputs": [
    {
     "name": "stdout",
     "output_type": "stream",
     "text": [
      "Epoch 1/50\n",
      "1500/1500 [==============================] - 7s 3ms/step - loss: 0.5021 - accuracy: 0.8242 - val_loss: 0.4242 - val_accuracy: 0.8500\n",
      "Epoch 2/50\n",
      "1500/1500 [==============================] - 5s 3ms/step - loss: 0.3735 - accuracy: 0.8638 - val_loss: 0.3483 - val_accuracy: 0.8748\n",
      "Epoch 3/50\n",
      "1500/1500 [==============================] - 5s 3ms/step - loss: 0.3341 - accuracy: 0.8774 - val_loss: 0.3343 - val_accuracy: 0.8772\n",
      "Epoch 4/50\n",
      "1500/1500 [==============================] - 5s 3ms/step - loss: 0.3064 - accuracy: 0.8868 - val_loss: 0.3290 - val_accuracy: 0.8811\n",
      "Epoch 5/50\n",
      "1500/1500 [==============================] - 5s 3ms/step - loss: 0.2900 - accuracy: 0.8922 - val_loss: 0.3541 - val_accuracy: 0.8742\n",
      "Epoch 6/50\n",
      "1500/1500 [==============================] - 6s 4ms/step - loss: 0.2745 - accuracy: 0.8995 - val_loss: 0.3128 - val_accuracy: 0.8871\n",
      "Epoch 7/50\n",
      "1500/1500 [==============================] - 5s 3ms/step - loss: 0.2637 - accuracy: 0.9023 - val_loss: 0.3385 - val_accuracy: 0.8812\n",
      "Epoch 8/50\n",
      "1500/1500 [==============================] - 3s 2ms/step - loss: 0.2496 - accuracy: 0.9064 - val_loss: 0.3230 - val_accuracy: 0.8832\n",
      "Epoch 9/50\n",
      "1500/1500 [==============================] - 6s 4ms/step - loss: 0.2393 - accuracy: 0.9094 - val_loss: 0.3130 - val_accuracy: 0.8936\n",
      "Epoch 10/50\n",
      "1500/1500 [==============================] - 5s 3ms/step - loss: 0.2281 - accuracy: 0.9137 - val_loss: 0.3228 - val_accuracy: 0.8890\n",
      "Epoch 11/50\n",
      "1500/1500 [==============================] - 5s 3ms/step - loss: 0.2215 - accuracy: 0.9167 - val_loss: 0.3249 - val_accuracy: 0.8872\n",
      "Epoch 12/50\n",
      "1500/1500 [==============================] - 5s 3ms/step - loss: 0.2113 - accuracy: 0.9220 - val_loss: 0.3388 - val_accuracy: 0.8839\n",
      "Epoch 13/50\n",
      "1500/1500 [==============================] - 5s 3ms/step - loss: 0.2054 - accuracy: 0.9224 - val_loss: 0.3169 - val_accuracy: 0.8928\n",
      "Epoch 14/50\n",
      "1500/1500 [==============================] - 5s 3ms/step - loss: 0.1965 - accuracy: 0.9264 - val_loss: 0.3270 - val_accuracy: 0.8915\n",
      "Epoch 15/50\n",
      "1500/1500 [==============================] - 5s 3ms/step - loss: 0.1902 - accuracy: 0.9287 - val_loss: 0.3271 - val_accuracy: 0.8903\n",
      "Epoch 16/50\n",
      "1500/1500 [==============================] - 5s 3ms/step - loss: 0.1832 - accuracy: 0.9312 - val_loss: 0.3398 - val_accuracy: 0.8921\n",
      "Epoch 17/50\n",
      "1500/1500 [==============================] - 5s 3ms/step - loss: 0.1786 - accuracy: 0.9328 - val_loss: 0.3577 - val_accuracy: 0.8882\n",
      "Epoch 18/50\n",
      "1500/1500 [==============================] - 5s 3ms/step - loss: 0.1707 - accuracy: 0.9356 - val_loss: 0.3288 - val_accuracy: 0.8978\n",
      "Epoch 19/50\n",
      "1500/1500 [==============================] - 5s 3ms/step - loss: 0.1657 - accuracy: 0.9371 - val_loss: 0.3573 - val_accuracy: 0.8888\n",
      "Epoch 20/50\n",
      "1500/1500 [==============================] - 6s 4ms/step - loss: 0.1633 - accuracy: 0.9390 - val_loss: 0.3490 - val_accuracy: 0.8892\n",
      "Epoch 21/50\n",
      "1500/1500 [==============================] - 5s 3ms/step - loss: 0.1550 - accuracy: 0.9420 - val_loss: 0.3605 - val_accuracy: 0.8934\n",
      "Epoch 22/50\n",
      "1500/1500 [==============================] - 5s 3ms/step - loss: 0.1534 - accuracy: 0.9423 - val_loss: 0.3674 - val_accuracy: 0.8931\n",
      "Epoch 23/50\n",
      "1500/1500 [==============================] - 5s 3ms/step - loss: 0.1479 - accuracy: 0.9441 - val_loss: 0.3653 - val_accuracy: 0.8918\n",
      "Epoch 24/50\n",
      "1500/1500 [==============================] - 5s 3ms/step - loss: 0.1416 - accuracy: 0.9464 - val_loss: 0.3652 - val_accuracy: 0.8957\n",
      "Epoch 25/50\n",
      "1500/1500 [==============================] - 5s 3ms/step - loss: 0.1381 - accuracy: 0.9474 - val_loss: 0.3652 - val_accuracy: 0.8959\n",
      "Epoch 26/50\n",
      "1500/1500 [==============================] - 5s 3ms/step - loss: 0.1357 - accuracy: 0.9489 - val_loss: 0.3877 - val_accuracy: 0.8904\n",
      "Epoch 27/50\n",
      "1500/1500 [==============================] - 5s 3ms/step - loss: 0.1337 - accuracy: 0.9495 - val_loss: 0.3788 - val_accuracy: 0.8953\n",
      "Epoch 28/50\n",
      "1500/1500 [==============================] - 6s 4ms/step - loss: 0.1274 - accuracy: 0.9528 - val_loss: 0.3985 - val_accuracy: 0.8926\n",
      "Epoch 29/50\n",
      "1500/1500 [==============================] - 5s 3ms/step - loss: 0.1249 - accuracy: 0.9538 - val_loss: 0.3941 - val_accuracy: 0.8950\n",
      "Epoch 30/50\n",
      "1500/1500 [==============================] - 5s 3ms/step - loss: 0.1218 - accuracy: 0.9540 - val_loss: 0.4078 - val_accuracy: 0.8966\n",
      "Epoch 31/50\n",
      "1500/1500 [==============================] - 3s 2ms/step - loss: 0.1181 - accuracy: 0.9555 - val_loss: 0.4070 - val_accuracy: 0.8947\n",
      "Epoch 32/50\n",
      "1500/1500 [==============================] - 6s 4ms/step - loss: 0.1160 - accuracy: 0.9566 - val_loss: 0.4260 - val_accuracy: 0.8964\n",
      "Epoch 33/50\n",
      "1500/1500 [==============================] - 5s 3ms/step - loss: 0.1111 - accuracy: 0.9588 - val_loss: 0.4102 - val_accuracy: 0.8934\n",
      "Epoch 34/50\n",
      "1500/1500 [==============================] - 5s 3ms/step - loss: 0.1109 - accuracy: 0.9585 - val_loss: 0.4353 - val_accuracy: 0.8921\n",
      "Epoch 35/50\n",
      "1500/1500 [==============================] - 5s 3ms/step - loss: 0.1052 - accuracy: 0.9611 - val_loss: 0.4406 - val_accuracy: 0.8929\n",
      "Epoch 36/50\n",
      "1500/1500 [==============================] - 5s 3ms/step - loss: 0.1037 - accuracy: 0.9604 - val_loss: 0.4316 - val_accuracy: 0.8946\n",
      "Epoch 37/50\n",
      "1500/1500 [==============================] - 5s 3ms/step - loss: 0.1033 - accuracy: 0.9610 - val_loss: 0.4397 - val_accuracy: 0.8957\n",
      "Epoch 38/50\n",
      "1500/1500 [==============================] - 5s 3ms/step - loss: 0.1000 - accuracy: 0.9629 - val_loss: 0.4516 - val_accuracy: 0.8901\n",
      "Epoch 39/50\n",
      "1500/1500 [==============================] - 5s 3ms/step - loss: 0.0960 - accuracy: 0.9634 - val_loss: 0.4641 - val_accuracy: 0.8925\n",
      "Epoch 40/50\n",
      "1500/1500 [==============================] - 5s 3ms/step - loss: 0.0944 - accuracy: 0.9648 - val_loss: 0.4413 - val_accuracy: 0.8960\n",
      "Epoch 41/50\n",
      "1500/1500 [==============================] - 5s 3ms/step - loss: 0.0946 - accuracy: 0.9659 - val_loss: 0.4957 - val_accuracy: 0.8844\n",
      "Epoch 42/50\n",
      "1500/1500 [==============================] - 5s 3ms/step - loss: 0.0915 - accuracy: 0.9654 - val_loss: 0.4689 - val_accuracy: 0.8915\n",
      "Epoch 43/50\n",
      "1500/1500 [==============================] - 5s 3ms/step - loss: 0.0856 - accuracy: 0.9681 - val_loss: 0.4663 - val_accuracy: 0.8963\n",
      "Epoch 44/50\n",
      "1500/1500 [==============================] - 5s 3ms/step - loss: 0.0876 - accuracy: 0.9677 - val_loss: 0.4781 - val_accuracy: 0.8992\n",
      "Epoch 45/50\n",
      "1500/1500 [==============================] - 5s 3ms/step - loss: 0.0841 - accuracy: 0.9685 - val_loss: 0.4943 - val_accuracy: 0.8951\n",
      "Epoch 46/50\n",
      "1500/1500 [==============================] - 6s 3ms/step - loss: 0.0848 - accuracy: 0.9681 - val_loss: 0.4819 - val_accuracy: 0.8943\n",
      "Epoch 47/50\n",
      "1500/1500 [==============================] - 5s 3ms/step - loss: 0.0848 - accuracy: 0.9688 - val_loss: 0.5313 - val_accuracy: 0.8873\n",
      "Epoch 48/50\n",
      "1500/1500 [==============================] - 5s 3ms/step - loss: 0.0817 - accuracy: 0.9692 - val_loss: 0.4855 - val_accuracy: 0.8960\n",
      "Epoch 49/50\n",
      "1500/1500 [==============================] - 5s 3ms/step - loss: 0.0768 - accuracy: 0.9713 - val_loss: 0.5495 - val_accuracy: 0.8910\n",
      "Epoch 50/50\n",
      "1500/1500 [==============================] - 5s 3ms/step - loss: 0.0795 - accuracy: 0.9699 - val_loss: 0.5283 - val_accuracy: 0.8906\n",
      "Best epoch: 44\n"
     ]
    }
   ],
   "source": [
    "# Build the model with the optimal hyperparameters and train it on the data for 50 epochs\n",
    "model = tuner.hypermodel.build(best_hps)\n",
    "history = model.fit(img_train, label_train, epochs=50, validation_split=0.2)\n",
    "\n",
    "val_acc_per_epoch = history.history['val_accuracy']\n",
    "best_epoch = val_acc_per_epoch.index(max(val_acc_per_epoch)) + 1\n",
    "print('Best epoch: %d' % (best_epoch,))"
   ]
  },
  {
   "cell_type": "markdown",
   "metadata": {
    "id": "uOTSirSTI3Gp"
   },
   "source": [
    "Re-instantiate the hypermodel and train it with the optimal number of epochs from above."
   ]
  },
  {
   "cell_type": "code",
   "execution_count": 11,
   "metadata": {
    "execution": {
     "iopub.execute_input": "2021-06-26T01:32:41.604263Z",
     "iopub.status.busy": "2021-06-26T01:32:41.603065Z",
     "iopub.status.idle": "2021-06-26T01:34:35.585859Z",
     "shell.execute_reply": "2021-06-26T01:34:35.585450Z"
    },
    "id": "NoiPUEHmMhCe"
   },
   "outputs": [
    {
     "name": "stdout",
     "output_type": "stream",
     "text": [
      "Epoch 1/44\n",
      "1500/1500 [==============================] - 7s 4ms/step - loss: 0.5090 - accuracy: 0.8203 - val_loss: 0.4184 - val_accuracy: 0.8499\n",
      "Epoch 2/44\n",
      "1500/1500 [==============================] - 5s 3ms/step - loss: 0.3775 - accuracy: 0.8652 - val_loss: 0.3936 - val_accuracy: 0.8552\n",
      "Epoch 3/44\n",
      "1500/1500 [==============================] - 5s 3ms/step - loss: 0.3368 - accuracy: 0.8775 - val_loss: 0.3588 - val_accuracy: 0.8694\n",
      "Epoch 4/44\n",
      "1500/1500 [==============================] - 5s 3ms/step - loss: 0.3118 - accuracy: 0.8845 - val_loss: 0.3420 - val_accuracy: 0.8781\n",
      "Epoch 5/44\n",
      "1500/1500 [==============================] - 5s 3ms/step - loss: 0.2939 - accuracy: 0.8910 - val_loss: 0.3495 - val_accuracy: 0.8734\n",
      "Epoch 6/44\n",
      "1500/1500 [==============================] - 6s 4ms/step - loss: 0.2768 - accuracy: 0.8961 - val_loss: 0.3098 - val_accuracy: 0.8892\n",
      "Epoch 7/44\n",
      "1500/1500 [==============================] - 5s 3ms/step - loss: 0.2633 - accuracy: 0.9015 - val_loss: 0.3111 - val_accuracy: 0.8882\n",
      "Epoch 8/44\n",
      "1500/1500 [==============================] - 5s 3ms/step - loss: 0.2523 - accuracy: 0.9062 - val_loss: 0.3315 - val_accuracy: 0.8816\n",
      "Epoch 9/44\n",
      "1500/1500 [==============================] - 5s 3ms/step - loss: 0.2383 - accuracy: 0.9101 - val_loss: 0.3240 - val_accuracy: 0.8878\n",
      "Epoch 10/44\n",
      "1500/1500 [==============================] - 5s 3ms/step - loss: 0.2306 - accuracy: 0.9134 - val_loss: 0.3053 - val_accuracy: 0.8928\n",
      "Epoch 11/44\n",
      "1500/1500 [==============================] - 5s 3ms/step - loss: 0.2211 - accuracy: 0.9167 - val_loss: 0.3107 - val_accuracy: 0.8908\n",
      "Epoch 12/44\n",
      "1500/1500 [==============================] - 6s 4ms/step - loss: 0.2135 - accuracy: 0.9191 - val_loss: 0.3211 - val_accuracy: 0.8921\n",
      "Epoch 13/44\n",
      "1500/1500 [==============================] - 5s 3ms/step - loss: 0.2035 - accuracy: 0.9234 - val_loss: 0.3002 - val_accuracy: 0.8963\n",
      "Epoch 14/44\n",
      "1500/1500 [==============================] - 5s 3ms/step - loss: 0.1976 - accuracy: 0.9267 - val_loss: 0.3201 - val_accuracy: 0.8913\n",
      "Epoch 15/44\n",
      "1500/1500 [==============================] - 7s 4ms/step - loss: 0.1917 - accuracy: 0.9277 - val_loss: 0.3272 - val_accuracy: 0.8894\n",
      "Epoch 16/44\n",
      "1500/1500 [==============================] - 5s 3ms/step - loss: 0.1852 - accuracy: 0.9300 - val_loss: 0.3457 - val_accuracy: 0.8849\n",
      "Epoch 17/44\n",
      "1500/1500 [==============================] - 5s 3ms/step - loss: 0.1781 - accuracy: 0.9326 - val_loss: 0.3270 - val_accuracy: 0.8959\n",
      "Epoch 18/44\n",
      "1500/1500 [==============================] - 5s 3ms/step - loss: 0.1742 - accuracy: 0.9349 - val_loss: 0.3392 - val_accuracy: 0.8927\n",
      "Epoch 19/44\n",
      "1500/1500 [==============================] - 5s 3ms/step - loss: 0.1674 - accuracy: 0.9376 - val_loss: 0.3463 - val_accuracy: 0.8934\n",
      "Epoch 20/44\n",
      "1500/1500 [==============================] - 6s 4ms/step - loss: 0.1643 - accuracy: 0.9381 - val_loss: 0.3508 - val_accuracy: 0.8916\n",
      "Epoch 21/44\n",
      "1500/1500 [==============================] - 5s 3ms/step - loss: 0.1608 - accuracy: 0.9388 - val_loss: 0.3620 - val_accuracy: 0.8906\n",
      "Epoch 22/44\n",
      "1500/1500 [==============================] - 5s 3ms/step - loss: 0.1529 - accuracy: 0.9423 - val_loss: 0.3384 - val_accuracy: 0.8933\n",
      "Epoch 23/44\n",
      "1500/1500 [==============================] - 5s 3ms/step - loss: 0.1469 - accuracy: 0.9444 - val_loss: 0.3828 - val_accuracy: 0.8898\n",
      "Epoch 24/44\n",
      "1500/1500 [==============================] - 5s 3ms/step - loss: 0.1442 - accuracy: 0.9459 - val_loss: 0.3661 - val_accuracy: 0.8913\n",
      "Epoch 25/44\n",
      "1500/1500 [==============================] - 5s 3ms/step - loss: 0.1393 - accuracy: 0.9470 - val_loss: 0.3844 - val_accuracy: 0.8890\n",
      "Epoch 26/44\n",
      "1500/1500 [==============================] - 5s 3ms/step - loss: 0.1389 - accuracy: 0.9474 - val_loss: 0.3702 - val_accuracy: 0.8951\n",
      "Epoch 27/44\n",
      "1500/1500 [==============================] - 5s 3ms/step - loss: 0.1336 - accuracy: 0.9495 - val_loss: 0.3640 - val_accuracy: 0.8917\n",
      "Epoch 28/44\n",
      "1500/1500 [==============================] - 5s 3ms/step - loss: 0.1279 - accuracy: 0.9529 - val_loss: 0.3799 - val_accuracy: 0.8945\n",
      "Epoch 29/44\n",
      "1500/1500 [==============================] - 6s 3ms/step - loss: 0.1242 - accuracy: 0.9528 - val_loss: 0.3882 - val_accuracy: 0.8910\n",
      "Epoch 30/44\n",
      "1500/1500 [==============================] - 5s 3ms/step - loss: 0.1236 - accuracy: 0.9536 - val_loss: 0.3873 - val_accuracy: 0.8932\n",
      "Epoch 31/44\n",
      "1500/1500 [==============================] - 5s 3ms/step - loss: 0.1185 - accuracy: 0.9544 - val_loss: 0.4191 - val_accuracy: 0.8908\n",
      "Epoch 32/44\n",
      "1500/1500 [==============================] - 5s 3ms/step - loss: 0.1173 - accuracy: 0.9560 - val_loss: 0.4525 - val_accuracy: 0.8839\n",
      "Epoch 33/44\n",
      "1500/1500 [==============================] - 7s 4ms/step - loss: 0.1157 - accuracy: 0.9559 - val_loss: 0.4051 - val_accuracy: 0.8890\n",
      "Epoch 34/44\n",
      "1500/1500 [==============================] - 5s 3ms/step - loss: 0.1102 - accuracy: 0.9582 - val_loss: 0.4285 - val_accuracy: 0.8918\n",
      "Epoch 35/44\n",
      "1500/1500 [==============================] - 5s 3ms/step - loss: 0.1073 - accuracy: 0.9597 - val_loss: 0.4190 - val_accuracy: 0.8885\n",
      "Epoch 36/44\n",
      "1500/1500 [==============================] - 6s 4ms/step - loss: 0.1050 - accuracy: 0.9604 - val_loss: 0.4548 - val_accuracy: 0.8894\n",
      "Epoch 37/44\n",
      "1500/1500 [==============================] - 5s 3ms/step - loss: 0.1021 - accuracy: 0.9619 - val_loss: 0.4609 - val_accuracy: 0.8868\n",
      "Epoch 38/44\n",
      "1500/1500 [==============================] - 5s 3ms/step - loss: 0.0989 - accuracy: 0.9628 - val_loss: 0.4640 - val_accuracy: 0.8840\n",
      "Epoch 39/44\n",
      "1500/1500 [==============================] - 5s 3ms/step - loss: 0.0992 - accuracy: 0.9629 - val_loss: 0.4440 - val_accuracy: 0.8923\n",
      "Epoch 40/44\n",
      "1500/1500 [==============================] - 5s 3ms/step - loss: 0.0951 - accuracy: 0.9640 - val_loss: 0.4530 - val_accuracy: 0.8888\n",
      "Epoch 41/44\n",
      "1500/1500 [==============================] - 5s 3ms/step - loss: 0.0954 - accuracy: 0.9645 - val_loss: 0.4747 - val_accuracy: 0.8863\n",
      "Epoch 42/44\n",
      "1500/1500 [==============================] - 7s 4ms/step - loss: 0.0911 - accuracy: 0.9663 - val_loss: 0.4762 - val_accuracy: 0.8914\n",
      "Epoch 43/44\n",
      "1500/1500 [==============================] - 5s 3ms/step - loss: 0.0911 - accuracy: 0.9653 - val_loss: 0.5152 - val_accuracy: 0.8880\n",
      "Epoch 44/44\n",
      "1500/1500 [==============================] - 5s 3ms/step - loss: 0.0875 - accuracy: 0.9673 - val_loss: 0.4565 - val_accuracy: 0.8943\n"
     ]
    },
    {
     "data": {
      "text/plain": [
       "<tensorflow.python.keras.callbacks.History at 0x2469fb1e3a0>"
      ]
     },
     "execution_count": 11,
     "metadata": {},
     "output_type": "execute_result"
    }
   ],
   "source": [
    "hypermodel = tuner.hypermodel.build(best_hps)\n",
    "\n",
    "# Retrain the model\n",
    "hypermodel.fit(img_train, label_train, epochs=best_epoch, validation_split=0.2)"
   ]
  },
  {
   "cell_type": "markdown",
   "metadata": {
    "id": "MqU5ZVAaag2v"
   },
   "source": [
    "To finish this tutorial, evaluate the hypermodel on the test data."
   ]
  },
  {
   "cell_type": "code",
   "execution_count": 12,
   "metadata": {
    "execution": {
     "iopub.execute_input": "2021-06-26T01:34:35.589791Z",
     "iopub.status.busy": "2021-06-26T01:34:35.589210Z",
     "iopub.status.idle": "2021-06-26T01:34:36.248936Z",
     "shell.execute_reply": "2021-06-26T01:34:36.249313Z"
    },
    "id": "9E0BTp9Ealjb"
   },
   "outputs": [
    {
     "name": "stdout",
     "output_type": "stream",
     "text": [
      "313/313 [==============================] - 2s 6ms/step - loss: 0.5062 - accuracy: 0.8881\n",
      "[test loss, test accuracy]: [0.5062196254730225, 0.8881000280380249]\n"
     ]
    }
   ],
   "source": [
    "eval_result = hypermodel.evaluate(img_test, label_test)\n",
    "print(\"[test loss, test accuracy]:\", eval_result)"
   ]
  },
  {
   "cell_type": "markdown",
   "metadata": {
    "id": "EQRpPHZsz-eC"
   },
   "source": [
    "The `my_dir/intro_to_kt` directory contains detailed logs and checkpoints for every trial (model configuration) run during the hyperparameter search. If re-run the hyperparameter search, the Keras Tuner uses the existing state from these logs to resume the search. To disable this behavior, pass an additional `overwrite=True` argument while instantiating the tuner."
   ]
  }
 ],
 "metadata": {
  "accelerator": "GPU",
  "colab": {
   "collapsed_sections": [
    "Tce3stUlHN0L"
   ],
   "name": "keras_tuner.ipynb",
   "toc_visible": true
  },
  "kernelspec": {
   "display_name": "Python 3",
   "language": "python",
   "name": "python3"
  },
  "language_info": {
   "codemirror_mode": {
    "name": "ipython",
    "version": 3
   },
   "file_extension": ".py",
   "mimetype": "text/x-python",
   "name": "python",
   "nbconvert_exporter": "python",
   "pygments_lexer": "ipython3",
   "version": "3.9.5"
  }
 },
 "nbformat": 4,
 "nbformat_minor": 1
}
