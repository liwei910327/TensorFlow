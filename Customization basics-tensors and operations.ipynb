{
 "cells": [
  {
   "cell_type": "markdown",
   "metadata": {
    "id": "U9i2Dsh-ziXr"
   },
   "source": [
    "# Customization basics: tensors and operations"
   ]
  },
  {
   "cell_type": "markdown",
   "metadata": {
    "id": "6sILUVbHoSgH"
   },
   "source": [
    "\n",
    "* Import the required package\n",
    "* Create and use tensors\n",
    "* Use GPU acceleration\n",
    "* Demonstrate `tf.data.Dataset`"
   ]
  },
  {
   "cell_type": "markdown",
   "metadata": {
    "id": "z1JcS5iBXMRO"
   },
   "source": [
    "## Import TensorFlow\n",
    "\n",
    "To get started, import the `tensorflow` module. As of TensorFlow 2, eager execution is turned on by default."
   ]
  },
  {
   "cell_type": "code",
   "execution_count": 1,
   "metadata": {
    "execution": {
     "iopub.execute_input": "2021-06-16T15:00:53.472984Z",
     "iopub.status.busy": "2021-06-16T15:00:53.472414Z",
     "iopub.status.idle": "2021-06-16T15:00:54.937496Z",
     "shell.execute_reply": "2021-06-16T15:00:54.937905Z"
    },
    "id": "vjBPmYjLdFmk"
   },
   "outputs": [],
   "source": [
    "import tensorflow as tf"
   ]
  },
  {
   "cell_type": "markdown",
   "metadata": {
    "id": "H9UySOPLXdaw"
   },
   "source": [
    "## Tensors\n",
    "\n",
    "A Tensor is a multi-dimensional array. Similar to NumPy `ndarray` objects, `tf.Tensor` objects have a data type and a shape. Additionally, `tf.Tensor`s can reside in accelerator memory (like a GPU). TensorFlow offers a rich library of operations ([tf.add], [tf.matmul], [tf.linalg.inv] etc.) that consume and produce `tf.Tensor`s. These operations automatically convert native Python types, for example:\n"
   ]
  },
  {
   "cell_type": "code",
   "execution_count": 2,
   "metadata": {
    "cellView": "code",
    "execution": {
     "iopub.execute_input": "2021-06-16T15:00:56.266317Z",
     "iopub.status.busy": "2021-06-16T15:00:56.265545Z",
     "iopub.status.idle": "2021-06-16T15:00:56.546148Z",
     "shell.execute_reply": "2021-06-16T15:00:56.546544Z"
    },
    "id": "ngUe237Wt48W"
   },
   "outputs": [
    {
     "name": "stdout",
     "output_type": "stream",
     "text": [
      "tf.Tensor(3, shape=(), dtype=int32)\n",
      "tf.Tensor([4 6], shape=(2,), dtype=int32)\n",
      "tf.Tensor(25, shape=(), dtype=int32)\n",
      "tf.Tensor(6, shape=(), dtype=int32)\n",
      "tf.Tensor(13, shape=(), dtype=int32)\n"
     ]
    }
   ],
   "source": [
    "print(tf.add(1, 2))\n",
    "print(tf.add([1, 2], [3, 4]))\n",
    "print(tf.square(5))\n",
    "print(tf.reduce_sum([1, 2, 3]))\n",
    "\n",
    "# Operator overloading is also supported\n",
    "print(tf.square(2) + tf.square(3))"
   ]
  },
  {
   "cell_type": "markdown",
   "metadata": {
    "id": "IDY4WsYRhP81"
   },
   "source": [
    "Each `tf.Tensor` has a shape and a datatype:"
   ]
  },
  {
   "cell_type": "code",
   "execution_count": 3,
   "metadata": {
    "execution": {
     "iopub.execute_input": "2021-06-16T15:00:56.550905Z",
     "iopub.status.busy": "2021-06-16T15:00:56.550329Z",
     "iopub.status.idle": "2021-06-16T15:00:56.553596Z",
     "shell.execute_reply": "2021-06-16T15:00:56.553980Z"
    },
    "id": "srYWH1MdJNG7"
   },
   "outputs": [
    {
     "name": "stdout",
     "output_type": "stream",
     "text": [
      "tf.Tensor([[2 3]], shape=(1, 2), dtype=int32)\n",
      "(1, 2)\n",
      "<dtype: 'int32'>\n"
     ]
    }
   ],
   "source": [
    "x = tf.matmul([[1]], [[2, 3]])\n",
    "print(x)\n",
    "print(x.shape)\n",
    "print(x.dtype)"
   ]
  },
  {
   "cell_type": "markdown",
   "metadata": {
    "id": "eBPw8e8vrsom"
   },
   "source": [
    "The most obvious differences between NumPy arrays and `tf.Tensor`s are:\n",
    "\n",
    "1. Tensors can be backed by accelerator memory (like GPU, TPU).\n",
    "2. Tensors are immutable."
   ]
  },
  {
   "cell_type": "markdown",
   "metadata": {
    "id": "Dwi1tdW3JBw6"
   },
   "source": [
    "### NumPy Compatibility\n",
    "\n",
    "Converting between a TensorFlow `tf.Tensor`s and a NumPy `ndarray` is easy:\n",
    "\n",
    "* TensorFlow operations automatically convert NumPy ndarrays to Tensors.\n",
    "* NumPy operations automatically convert Tensors to NumPy ndarrays.\n",
    "\n",
    "Tensors are explicitly converted to NumPy ndarrays using their `.numpy()` method. These conversions are typically cheap since the array and `tf.Tensor` share the underlying memory representation, if possible. However, sharing the underlying representation isn't always possible since the `tf.Tensor` may be hosted in GPU memory while NumPy arrays are always backed by host memory, and the conversion involves a copy from GPU to host memory."
   ]
  },
  {
   "cell_type": "code",
   "execution_count": 4,
   "metadata": {
    "execution": {
     "iopub.execute_input": "2021-06-16T15:00:56.558871Z",
     "iopub.status.busy": "2021-06-16T15:00:56.558213Z",
     "iopub.status.idle": "2021-06-16T15:00:56.563017Z",
     "shell.execute_reply": "2021-06-16T15:00:56.562626Z"
    },
    "id": "lCUWzso6mbqR"
   },
   "outputs": [
    {
     "name": "stdout",
     "output_type": "stream",
     "text": [
      "TensorFlow operations convert numpy arrays to Tensors automatically\n",
      "tf.Tensor(\n",
      "[[42. 42. 42.]\n",
      " [42. 42. 42.]\n",
      " [42. 42. 42.]], shape=(3, 3), dtype=float64)\n",
      "And NumPy operations convert Tensors to numpy arrays automatically\n",
      "[[43. 43. 43.]\n",
      " [43. 43. 43.]\n",
      " [43. 43. 43.]]\n",
      "The .numpy() method explicitly converts a Tensor to a numpy array\n",
      "[[42. 42. 42.]\n",
      " [42. 42. 42.]\n",
      " [42. 42. 42.]]\n"
     ]
    }
   ],
   "source": [
    "import numpy as np\n",
    "\n",
    "ndarray = np.ones([3, 3])\n",
    "\n",
    "print(\"TensorFlow operations convert numpy arrays to Tensors automatically\")\n",
    "tensor = tf.multiply(ndarray, 42)\n",
    "print(tensor)\n",
    "\n",
    "\n",
    "print(\"And NumPy operations convert Tensors to numpy arrays automatically\")\n",
    "print(np.add(tensor, 1))\n",
    "\n",
    "print(\"The .numpy() method explicitly converts a Tensor to a numpy array\")\n",
    "print(tensor.numpy())"
   ]
  },
  {
   "cell_type": "markdown",
   "metadata": {
    "id": "PBNP8yTRfu_X"
   },
   "source": [
    "## GPU acceleration\n",
    "\n",
    "Many TensorFlow operations are accelerated using the GPU for computation. Without any annotations, TensorFlow automatically decides whether to use the GPU or CPU for an operation—copying the tensor between CPU and GPU memory, if necessary. Tensors produced by an operation are typically backed by the memory of the device on which the operation executed, for example:"
   ]
  },
  {
   "cell_type": "code",
   "execution_count": 5,
   "metadata": {
    "cellView": "code",
    "execution": {
     "iopub.execute_input": "2021-06-16T15:00:56.566904Z",
     "iopub.status.busy": "2021-06-16T15:00:56.566348Z",
     "iopub.status.idle": "2021-06-16T15:00:56.569079Z",
     "shell.execute_reply": "2021-06-16T15:00:56.568665Z"
    },
    "id": "3Twf_Rw-gQFM"
   },
   "outputs": [
    {
     "name": "stdout",
     "output_type": "stream",
     "text": [
      "Is there a GPU available: \n",
      "[PhysicalDevice(name='/physical_device:GPU:0', device_type='GPU')]\n",
      "Is the Tensor on GPU #0:  \n",
      "True\n"
     ]
    }
   ],
   "source": [
    "x = tf.random.uniform([3, 3])\n",
    "\n",
    "print(\"Is there a GPU available: \"),\n",
    "print(tf.config.list_physical_devices(\"GPU\"))\n",
    "\n",
    "print(\"Is the Tensor on GPU #0:  \"),\n",
    "print(x.device.endswith('GPU:0'))"
   ]
  },
  {
   "cell_type": "markdown",
   "metadata": {
    "id": "vpgYzgVXW2Ud"
   },
   "source": [
    "### Device Names\n",
    "\n",
    "The `Tensor.device` property provides a fully qualified string name of the device hosting the contents of the tensor. This name encodes many details, such as an identifier of the network address of the host on which this program is executing and the device within that host. This is required for distributed execution of a TensorFlow program. The string ends with `GPU:<N>` if the tensor is placed on the `N`-th GPU on the host."
   ]
  },
  {
   "cell_type": "markdown",
   "metadata": {
    "id": "ZWZQCimzuqyP"
   },
   "source": [
    "### Explicit Device Placement\n",
    "\n",
    "In TensorFlow, *placement* refers to how individual operations are assigned (placed on) a device for execution. As mentioned, when there is no explicit guidance provided, TensorFlow automatically decides which device to execute an operation and copies tensors to that device, if needed. However, TensorFlow operations can be explicitly placed on specific devices using the `tf.device` context manager, for example:"
   ]
  },
  {
   "cell_type": "code",
   "execution_count": 6,
   "metadata": {
    "execution": {
     "iopub.execute_input": "2021-06-16T15:00:56.576745Z",
     "iopub.status.busy": "2021-06-16T15:00:56.576083Z",
     "iopub.status.idle": "2021-06-16T15:00:57.071966Z",
     "shell.execute_reply": "2021-06-16T15:00:57.071478Z"
    },
    "id": "RjkNZTuauy-Q"
   },
   "outputs": [
    {
     "name": "stdout",
     "output_type": "stream",
     "text": [
      "On CPU:\n",
      "10 loops: 84.23ms\n",
      "On GPU:\n",
      "10 loops: 869.37ms\n"
     ]
    }
   ],
   "source": [
    "import time\n",
    "\n",
    "def time_matmul(x):\n",
    "  start = time.time()\n",
    "  for loop in range(10):\n",
    "    tf.matmul(x, x)\n",
    "\n",
    "  result = time.time()-start\n",
    "\n",
    "  print(\"10 loops: {:0.2f}ms\".format(1000*result))\n",
    "\n",
    "# Force execution on CPU\n",
    "print(\"On CPU:\")\n",
    "with tf.device(\"CPU:0\"):\n",
    "  x = tf.random.uniform([1000, 1000])\n",
    "  assert x.device.endswith(\"CPU:0\")\n",
    "  time_matmul(x)\n",
    "\n",
    "# Force execution on GPU #0 if available\n",
    "if tf.config.list_physical_devices(\"GPU\"):\n",
    "  print(\"On GPU:\")\n",
    "  with tf.device(\"GPU:0\"): # Or GPU:1 for the 2nd GPU, GPU:2 for the 3rd etc.\n",
    "    x = tf.random.uniform([1000, 1000])\n",
    "    assert x.device.endswith(\"GPU:0\")\n",
    "    time_matmul(x)"
   ]
  },
  {
   "cell_type": "markdown",
   "metadata": {
    "id": "o1K4dlhhHtQj"
   },
   "source": [
    "## Datasets\n",
    "\n",
    "This section uses the [`tf.data.Dataset` API]to build a pipeline for feeding data to model. The `tf.data.Dataset` API is used to build performant, complex input pipelines from simple, re-usable pieces that will feed model's training or evaluation loops."
   ]
  },
  {
   "cell_type": "markdown",
   "metadata": {
    "id": "zI0fmOynH-Ne"
   },
   "source": [
    "### Create a source `Dataset`\n",
    "\n",
    "Create a *source* dataset using one of the factory functions like [`Dataset.from_tensors`], [`Dataset.from_tensor_slices`], or using objects that read from files like [`TextLineDataset`] or [`TFRecordDataset`]."
   ]
  },
  {
   "cell_type": "code",
   "execution_count": 7,
   "metadata": {
    "execution": {
     "iopub.execute_input": "2021-06-16T15:00:57.078000Z",
     "iopub.status.busy": "2021-06-16T15:00:57.077414Z",
     "iopub.status.idle": "2021-06-16T15:00:57.098312Z",
     "shell.execute_reply": "2021-06-16T15:00:57.098681Z"
    },
    "id": "F04fVOHQIBiG"
   },
   "outputs": [],
   "source": [
    "ds_tensors = tf.data.Dataset.from_tensor_slices([1, 2, 3, 4, 5, 6])\n",
    "\n",
    "# Create a CSV file\n",
    "import tempfile\n",
    "_, filename = tempfile.mkstemp()\n",
    "\n",
    "with open(filename, 'w') as f:\n",
    "  f.write(\"\"\"Line 1\n",
    "Line 2\n",
    "Line 3\n",
    "  \"\"\")\n",
    "\n",
    "ds_file = tf.data.TextLineDataset(filename)"
   ]
  },
  {
   "cell_type": "markdown",
   "metadata": {
    "id": "vbxIhC-5IPdf"
   },
   "source": [
    "### Apply transformations\n",
    "\n",
    "Use the transformations functions like [`map`](https://www.tensorflow.org/api_docs/python/tf/data/Dataset#map), [`batch`](https://www.tensorflow.org/api_docs/python/tf/data/Dataset#batch), and [`shuffle`](https://www.tensorflow.org/api_docs/python/tf/data/Dataset#shuffle) to apply transformations to dataset records."
   ]
  },
  {
   "cell_type": "code",
   "execution_count": 8,
   "metadata": {
    "execution": {
     "iopub.execute_input": "2021-06-16T15:00:57.103676Z",
     "iopub.status.busy": "2021-06-16T15:00:57.103044Z",
     "iopub.status.idle": "2021-06-16T15:00:57.109624Z",
     "shell.execute_reply": "2021-06-16T15:00:57.109148Z"
    },
    "id": "uXSDZWE-ISsd"
   },
   "outputs": [],
   "source": [
    "ds_tensors = ds_tensors.map(tf.square).shuffle(2).batch(2)\n",
    "\n",
    "ds_file = ds_file.batch(2)"
   ]
  },
  {
   "cell_type": "markdown",
   "metadata": {
    "id": "A8X1GNfoIZKJ"
   },
   "source": [
    "### Iterate\n",
    "\n",
    "`tf.data.Dataset` objects support iteration to loop over records:"
   ]
  },
  {
   "cell_type": "code",
   "execution_count": 9,
   "metadata": {
    "execution": {
     "iopub.execute_input": "2021-06-16T15:00:57.113896Z",
     "iopub.status.busy": "2021-06-16T15:00:57.113257Z",
     "iopub.status.idle": "2021-06-16T15:00:57.137998Z",
     "shell.execute_reply": "2021-06-16T15:00:57.138383Z"
    },
    "id": "ws-WKRk5Ic6-"
   },
   "outputs": [
    {
     "name": "stdout",
     "output_type": "stream",
     "text": [
      "Elements of ds_tensors:\n",
      "tf.Tensor([4 9], shape=(2,), dtype=int32)\n",
      "tf.Tensor([16 25], shape=(2,), dtype=int32)\n",
      "tf.Tensor([ 1 36], shape=(2,), dtype=int32)\n",
      "\n",
      "Elements in ds_file:\n",
      "tf.Tensor([b'Line 1' b'Line 2'], shape=(2,), dtype=string)\n",
      "tf.Tensor([b'Line 3' b'  '], shape=(2,), dtype=string)\n"
     ]
    }
   ],
   "source": [
    "print('Elements of ds_tensors:')\n",
    "for x in ds_tensors:\n",
    "  print(x)\n",
    "\n",
    "print('\\nElements in ds_file:')\n",
    "for x in ds_file:\n",
    "  print(x)"
   ]
  }
 ],
 "metadata": {
  "accelerator": "GPU",
  "colab": {
   "collapsed_sections": [],
   "name": "basics.ipynb",
   "toc_visible": true
  },
  "kernelspec": {
   "display_name": "Python 3",
   "language": "python",
   "name": "python3"
  },
  "language_info": {
   "codemirror_mode": {
    "name": "ipython",
    "version": 3
   },
   "file_extension": ".py",
   "mimetype": "text/x-python",
   "name": "python",
   "nbconvert_exporter": "python",
   "pygments_lexer": "ipython3",
   "version": "3.9.5"
  }
 },
 "nbformat": 4,
 "nbformat_minor": 1
}
